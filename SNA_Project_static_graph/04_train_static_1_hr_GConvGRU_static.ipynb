{
 "cells": [
  {
   "cell_type": "code",
   "execution_count": 1,
   "metadata": {},
   "outputs": [],
   "source": [
    "# Imports\n",
    "try:\n",
    "    from tqdm import tqdm\n",
    "except ImportError:\n",
    "    def tqdm(iterable):\n",
    "        return iterable\n",
    "\n",
    "import torch\n",
    "import torch.nn.functional as F\n",
    "from torch_geometric_temporal.nn.recurrent import AGCRN,DCRNN,GConvGRU\n",
    "\n",
    "from torch_geometric_temporal.dataset import ChickenpoxDatasetLoader\n",
    "from torch_geometric_temporal.signal import temporal_signal_split\n",
    "from torch_geometric_temporal.signal.static_graph_temporal_signal import StaticGraphTemporalSignal\n",
    "import torch.nn.functional as F\n",
    "from pathlib import Path\n",
    "import pathlib\n",
    "import numpy as np\n",
    "import torch\n",
    "import numpy as np\n",
    "from typing import Sequence, Union\n",
    "from torch_geometric.data import Data\n",
    "from sklearn.model_selection import train_test_split\n",
    "import torch.nn as nn\n",
    "import torch.nn.functional as F\n",
    "from sklearn.metrics import confusion_matrix, ConfusionMatrixDisplay\n",
    "import matplotlib.pyplot as plt\n",
    "import pandas as pd\n",
    "from torch_geometric_temporal.nn.recurrent import AGCRN\n"
   ]
  },
  {
   "cell_type": "code",
   "execution_count": null,
   "metadata": {},
   "outputs": [
    {
     "name": "stdout",
     "output_type": "stream",
     "text": [
      "True\n",
      "Device is: cuda\n"
     ]
    }
   ],
   "source": [
    "print(torch.cuda.is_available())\n",
    "device = torch.device('cuda' if torch.cuda.is_available() else 'cpu')\n",
    "device = torch.device('cuda' if torch.cuda.is_available() else 'cpu')\n",
    "print(\"Device is:\",device)"
   ]
  },
  {
   "cell_type": "code",
   "execution_count": null,
   "metadata": {},
   "outputs": [],
   "source": [
    "# traffic_dataset = torch.load('./data/graph_data/1_hr_time_window_dynamic_graph/dataset_all_route_dynamic_graph_7_features.pt')\n",
    "# traffic_dataset = torch.load('./data/graph_data/1_hr_time_window_dynamic_graph/dataset_all_route_dynamic_graph.pt')\n",
    "# traffic_dataset = torch.load('./data/graph_data/1_hr_time_window_static_graph/dataset_all_route_single_graph.pt')\n",
    "traffic_dataset = torch.load('../SNA_create_graph/data/graph_data/1_hr_time_window_static_graph/dataset_all_route_single_graph_all_features.pt')"
   ]
  },
  {
   "cell_type": "code",
   "execution_count": null,
   "metadata": {},
   "outputs": [],
   "source": [
    "# # Removing graphs that just have zero bin in the graph to reduce sparsity\n",
    "# cleaned_traffic_dataset = []\n",
    "\n",
    "# for dataset in traffic_dataset:\n",
    "#     y_list = np.array(dataset.y)\n",
    "#     non_zero = np.count_nonzero(y_list)\n",
    "#     if(non_zero == 0):\n",
    "#         continue\n",
    "#     else:\n",
    "#         cleaned_traffic_dataset.append(dataset)\n",
    "\n",
    "# traffic_dataset = cleaned_traffic_dataset"
   ]
  },
  {
   "cell_type": "code",
   "execution_count": null,
   "metadata": {},
   "outputs": [
    {
     "data": {
      "text/plain": [
       "13525"
      ]
     },
     "execution_count": 5,
     "metadata": {},
     "output_type": "execute_result"
    }
   ],
   "source": [
    "len(traffic_dataset)"
   ]
  },
  {
   "cell_type": "code",
   "execution_count": null,
   "metadata": {},
   "outputs": [
    {
     "data": {
      "text/plain": [
       "836"
      ]
     },
     "execution_count": 6,
     "metadata": {},
     "output_type": "execute_result"
    }
   ],
   "source": [
    "traffic_dataset[0].y.shape[0]"
   ]
  },
  {
   "cell_type": "code",
   "execution_count": null,
   "metadata": {},
   "outputs": [
    {
     "name": "stdout",
     "output_type": "stream",
     "text": [
      "Data(edge_index=[2, 25], edge_attr=[25, 7], num_nodes=836, x=[836, 10], y=[836])\n"
     ]
    }
   ],
   "source": [
    "for data in traffic_dataset:\n",
    "    if data.y.shape[0] != 757:\n",
    "        print(data)\n",
    "        break"
   ]
  },
  {
   "cell_type": "code",
   "execution_count": null,
   "metadata": {},
   "outputs": [],
   "source": [
    "\n",
    "\n",
    "\n",
    "Edge_Indices = Sequence[Union[np.ndarray, None]]\n",
    "Edge_Weights = Sequence[Union[np.ndarray, None]]\n",
    "Node_Features = Sequence[Union[np.ndarray, None]]\n",
    "Targets = Sequence[Union[np.ndarray, None]]\n",
    "Additional_Features = Sequence[np.ndarray]\n",
    "\n",
    "\n",
    "class DynamicGraphTemporalSignal_custom(object):\n",
    "    r\"\"\"A data iterator object to contain a dynamic graph with a\n",
    "    changing edge set and weights . The feature set and node labels\n",
    "    (target) are also dynamic. The iterator returns a single discrete temporal\n",
    "    snapshot for a time period (e.g. day or week). This single snapshot is a\n",
    "    Pytorch Geometric Data object. Between two temporal snapshots the edges,\n",
    "    edge weights, target matrices and optionally passed attributes might change.\n",
    "\n",
    "    Args:\n",
    "        edge_indices (Sequence of Numpy arrays): Sequence of edge index tensors.\n",
    "        edge_weights (Sequence of Numpy arrays): Sequence of edge weight tensors.\n",
    "        features (Sequence of Numpy arrays): Sequence of node feature tensors.\n",
    "        targets (Sequence of Numpy arrays): Sequence of node label (target) tensors.\n",
    "        **kwargs (optional Sequence of Numpy arrays): Sequence of additional attributes.\n",
    "    \"\"\"\n",
    "\n",
    "    def __init__(\n",
    "        self,\n",
    "        edge_indices: Edge_Indices,\n",
    "        edge_weights: Edge_Weights,\n",
    "        features: Node_Features,\n",
    "        targets: Targets,\n",
    "        **kwargs: Additional_Features\n",
    "    ):\n",
    "        self.edge_indices = edge_indices\n",
    "        self.edge_weights = edge_weights\n",
    "        self.features = features\n",
    "        self.targets = targets\n",
    "        self.additional_feature_keys = []\n",
    "        for key, value in kwargs.items():\n",
    "            setattr(self, key, value)\n",
    "            self.additional_feature_keys.append(key)\n",
    "        self._check_temporal_consistency()\n",
    "        self._set_snapshot_count()\n",
    "\n",
    "    def _check_temporal_consistency(self):\n",
    "        assert len(self.features) == len(\n",
    "            self.targets\n",
    "        ), \"Temporal dimension inconsistency.\"\n",
    "        assert len(self.edge_indices) == len(\n",
    "            self.edge_weights\n",
    "        ), \"Temporal dimension inconsistency.\"\n",
    "        assert len(self.features) == len(\n",
    "            self.edge_weights\n",
    "        ), \"Temporal dimension inconsistency.\"\n",
    "        for key in self.additional_feature_keys:\n",
    "            assert len(self.targets) == len(\n",
    "                getattr(self, key)\n",
    "            ), \"Temporal dimension inconsistency.\"\n",
    "\n",
    "    def _set_snapshot_count(self):\n",
    "        self.snapshot_count = len(self.features)\n",
    "\n",
    "    def _get_edge_index(self, time_index: int):\n",
    "        if self.edge_indices[time_index] is None:\n",
    "            return self.edge_indices[time_index]\n",
    "        else:\n",
    "            return torch.LongTensor(self.edge_indices[time_index])\n",
    "\n",
    "    def _get_edge_weight(self, time_index: int):\n",
    "        if self.edge_weights[time_index] is None:\n",
    "            return self.edge_weights[time_index]\n",
    "        else:\n",
    "            return torch.FloatTensor(self.edge_weights[time_index])\n",
    "\n",
    "    def _get_features(self, time_index: int):\n",
    "        if self.features[time_index] is None:\n",
    "            return self.features[time_index]\n",
    "        else:\n",
    "            return torch.FloatTensor(self.features[time_index])\n",
    "\n",
    "    def _get_target(self, time_index: int):\n",
    "        if self.targets[time_index] is None:\n",
    "            return self.targets[time_index]\n",
    "        else:\n",
    "            return torch.LongTensor(self.targets[time_index])\n",
    "            # if self.targets[time_index].dtype.kind == \"i\":\n",
    "            #     return torch.LongTensor(self.targets[time_index])\n",
    "            # elif self.targets[time_index].dtype.kind == \"f\":\n",
    "            #     return torch.FloatTensor(self.targets[time_index])\n",
    "\n",
    "    def _get_additional_feature(self, time_index: int, feature_key: str):\n",
    "        feature = getattr(self, feature_key)[time_index]\n",
    "        if feature.dtype.kind == \"i\":\n",
    "            return torch.LongTensor(feature)\n",
    "        elif feature.dtype.kind == \"f\":\n",
    "            return torch.FloatTensor(feature)\n",
    "\n",
    "    def _get_additional_features(self, time_index: int):\n",
    "        additional_features = {\n",
    "            key: self._get_additional_feature(time_index, key)\n",
    "            for key in self.additional_feature_keys\n",
    "        }\n",
    "        return additional_features\n",
    "\n",
    "    def __getitem__(self, time_index: Union[int, slice]):\n",
    "        if isinstance(time_index, slice):\n",
    "            snapshot = DynamicGraphTemporalSignal(\n",
    "                self.edge_indices[time_index],\n",
    "                self.edge_weights[time_index],\n",
    "                self.features[time_index],\n",
    "                self.targets[time_index],\n",
    "                **{key: getattr(self, key)[time_index] for key in self.additional_feature_keys}\n",
    "            )\n",
    "        else:\n",
    "            x = self._get_features(time_index)\n",
    "            edge_index = self._get_edge_index(time_index)\n",
    "            edge_weight = self._get_edge_weight(time_index)\n",
    "            y = self._get_target(time_index)\n",
    "            additional_features = self._get_additional_features(time_index)\n",
    "\n",
    "            snapshot = Data(x=x, edge_index=edge_index, edge_attr=edge_weight,\n",
    "                            y=y, **additional_features)\n",
    "        return snapshot\n",
    "\n",
    "    def __next__(self):\n",
    "        if self.t < len(self.features):\n",
    "            snapshot = self[self.t]\n",
    "            self.t = self.t + 1\n",
    "            return snapshot\n",
    "        else:\n",
    "            self.t = 0\n",
    "            raise StopIteration\n",
    "\n",
    "    def __iter__(self):\n",
    "        self.t = 0\n",
    "        return self\n",
    "    \n",
    "class myNewOwnLoader(object):\n",
    "    \"\"\"A dataset of county level chicken pox cases in Hungary between 2004\n",
    "    and 2014. We made it public during the development of PyTorch Geometric\n",
    "    Temporal. The underlying graph is static - vertices are counties and\n",
    "    edges are neighbourhoods. Vertex features are lagged weekly counts of the\n",
    "    chickenpox cases (we included 4 lags). The target is the weekly number of\n",
    "    cases for the upcoming week (signed integers). Our dataset consist of more\n",
    "    than 500 snapshots (weeks).\n",
    "    \"\"\"\n",
    "\n",
    "    def __init__(self, dataset):\n",
    "        # self._read_web_data()\n",
    "        self._get_dataset(dataset)\n",
    "\n",
    "    def _get_dataset(self,dataset):\n",
    "        self._dataset = dataset\n",
    "\n",
    "    def _get_edges(self):\n",
    "        # self._edges = np.array(self._dataset[\"edges\"]).T\n",
    "        # ei = []\n",
    "        # for data in self._dataset:\n",
    "        #     ei.append(data.edge_index)\n",
    "        e = []\n",
    "        for data in self._dataset:\n",
    "            e.append(data.edge_index)\n",
    "\n",
    "        self._edges = e\n",
    "\n",
    "\n",
    "    def _get_edge_weights(self):\n",
    "        # self._edge_weights = np.ones(self._edges.shape[1])\n",
    "        # ew = []\n",
    "        # for data in self._dataset:\n",
    "        #     ew.append(data.edge_attr)\n",
    "        ew = []\n",
    "        for data in self._dataset:\n",
    "            ew.append(data.edge_attr[:, 0])\n",
    "            # ew.append(data.edge_attr)\n",
    "\n",
    "\n",
    "        self._edge_weights = ew\n",
    "\n",
    "        # self._edge_weights = np.array(self._dataset[0].edge_attr)\n",
    "        # self._edge_weights = self._dataset.edge_attr\n",
    "\n",
    "    def _get_targets(self):\n",
    "\n",
    "        y_class = []\n",
    "        for data in self._dataset:\n",
    "            y_class.append(data.y)\n",
    "\n",
    "        self.targets = y_class\n",
    "        # self.targets = self._dataset.y\n",
    "\n",
    "    def _get_features(self):\n",
    "        f = []\n",
    "        for data in self._dataset:\n",
    "            f.append(data.x)\n",
    "\n",
    "        self.features = f\n",
    "        # self.features = self._dataset.x\n",
    "\n",
    "    def get_dataset(self, lags: int = 8) -> DynamicGraphTemporalSignal_custom:\n",
    "        \"\"\"Returning the Chickenpox Hungary data iterator.\n",
    "\n",
    "        Args types:\n",
    "            * **lags** *(int)* - The number of time lags.\n",
    "        Return types:\n",
    "            * **dataset** *(StaticGraphTemporalSignal)* - The Chickenpox Hungary dataset.\n",
    "        \"\"\"\n",
    "        self.lags = lags\n",
    "        self._get_edges()\n",
    "        self._get_edge_weights()\n",
    "        self._get_targets()\n",
    "        self._get_features()\n",
    "        # self._get_targets_and_features()\n",
    "        # self.\n",
    "\n",
    "        dataset = DynamicGraphTemporalSignal_custom(\n",
    "            self._edges, self._edge_weights, self.features, self.targets\n",
    "        )\n",
    "        return dataset"
   ]
  },
  {
   "cell_type": "code",
   "execution_count": null,
   "metadata": {},
   "outputs": [
    {
     "name": "stdout",
     "output_type": "stream",
     "text": [
      "9468 1351 2704\n"
     ]
    }
   ],
   "source": [
    "test_size = int(len(traffic_dataset)*0.2)\n",
    "val_size = int(len(traffic_dataset)*0.1)\n",
    "train_size = len(traffic_dataset) - test_size - val_size\n",
    "\n",
    "train_dataset = traffic_dataset[:train_size]\n",
    "validation_dataset = traffic_dataset[train_size+1:train_size+val_size]\n",
    "test_dataset = traffic_dataset[train_size+val_size+1:train_size+val_size+test_size]\n",
    "\n",
    "print(len(train_dataset), len(validation_dataset), len(test_dataset))\n"
   ]
  },
  {
   "cell_type": "code",
   "execution_count": null,
   "metadata": {},
   "outputs": [
    {
     "name": "stdout",
     "output_type": "stream",
     "text": [
      "[ 9.96151984  5.56528361  0.68250546  0.18249586 83.60819522]\n",
      "[14.42171137  8.12529439  1.31348744  0.43074597 75.70876083]\n",
      "[13.15532898  7.36765133  1.30101427  0.37774093 77.79826449]\n"
     ]
    }
   ],
   "source": [
    "def get_class_counts(dataset):\n",
    "    y_train = []\n",
    "\n",
    "    for dataset in dataset:\n",
    "        y_train += list(np.array(dataset.y))\n",
    "\n",
    "    y_train = np.array(y_train)\n",
    "    class_counts = np.bincount(y_train)\n",
    "    return class_counts, len(y_train)\n",
    "\n",
    "train_count, total_train = get_class_counts(train_dataset)\n",
    "val_count, total_val = get_class_counts(validation_dataset)\n",
    "test_count, total_test = get_class_counts(test_dataset)\n",
    "\n",
    "# Getting the percentage of bins to see how the distribution looks like\n",
    "print(train_count*100/total_train)\n",
    "print(val_count*100/total_val)\n",
    "print(test_count*100/total_test)\n",
    "# I can say its pretty similar but very very sparse"
   ]
  },
  {
   "cell_type": "code",
   "execution_count": null,
   "metadata": {},
   "outputs": [],
   "source": [
    "newloader_train = myNewOwnLoader(train_dataset)\n",
    "train_dataset = newloader_train.get_dataset(lags=8)\n",
    "\n",
    "newloader_val = myNewOwnLoader(validation_dataset)\n",
    "validation_dataset = newloader_val.get_dataset(lags=8)\n",
    "\n",
    "newloader_test = myNewOwnLoader(test_dataset)\n",
    "test_dataset = newloader_test.get_dataset(lags=8)"
   ]
  },
  {
   "cell_type": "code",
   "execution_count": null,
   "metadata": {},
   "outputs": [
    {
     "data": {
      "text/plain": [
       "(Data(x=[836, 10], edge_index=[2, 25], edge_attr=[25], y=[836]),\n",
       " Data(x=[836, 10], edge_index=[2, 179], edge_attr=[179], y=[836]),\n",
       " Data(x=[836, 10], edge_index=[2, 103], edge_attr=[103], y=[836]))"
      ]
     },
     "execution_count": 25,
     "metadata": {},
     "output_type": "execute_result"
    }
   ],
   "source": [
    "train_dataset[0], validation_dataset[0], test_dataset[0]"
   ]
  },
  {
   "cell_type": "code",
   "execution_count": null,
   "metadata": {},
   "outputs": [
    {
     "data": {
      "text/plain": [
       "torch.Size([25])"
      ]
     },
     "execution_count": 29,
     "metadata": {},
     "output_type": "execute_result"
    }
   ],
   "source": [
    "train_dataset[0].edge_attr"
   ]
  },
  {
   "cell_type": "code",
   "execution_count": null,
   "metadata": {},
   "outputs": [],
   "source": [
    "y_train = []\n",
    "\n",
    "for dataset in train_dataset:\n",
    "    y_train += list(np.array(dataset.y))\n",
    "    # y_train.append(np.array(dataset.y))\n",
    "\n"
   ]
  },
  {
   "cell_type": "code",
   "execution_count": null,
   "metadata": {},
   "outputs": [],
   "source": [
    "y_train = np.array(y_train)\n",
    "\n",
    "class_counts = np.bincount(y_train)\n",
    "num_classes = 4\n",
    "total_samples = len(y_train)\n",
    "\n",
    "class_weights = []\n",
    "for count in class_counts:\n",
    "    weight = 1 / (count / total_samples)\n",
    "    class_weights.append(weight)"
   ]
  },
  {
   "cell_type": "code",
   "execution_count": null,
   "metadata": {},
   "outputs": [
    {
     "data": {
      "text/plain": [
       "(array([ 788479,  440506,   54022,   14445, 6617796]),\n",
       " [10.038628803049923,\n",
       "  17.9685361833891,\n",
       "  146.5189737514346,\n",
       "  547.9576323987538,\n",
       "  1.1960550007887822])"
      ]
     },
     "execution_count": 15,
     "metadata": {},
     "output_type": "execute_result"
    }
   ],
   "source": [
    "class_counts, class_weights\n",
    "\n",
    "# array([158929,  86989,  21581,   8111])"
   ]
  },
  {
   "cell_type": "code",
   "execution_count": null,
   "metadata": {},
   "outputs": [],
   "source": [
    "\n",
    "def train_one_epoch(train_loader, e):\n",
    "    model.train()\n",
    "\n",
    "    # Initial parameters\n",
    "    cost = 0\n",
    "    h = None\n",
    "    count = 0 \n",
    "    correct = 0\n",
    "    for time, snapshot in enumerate(train_loader):\n",
    "        snapshot.to(device)\n",
    "        # x = snapshot.x.view(1, no_of_nodes, no_of_node_features)\n",
    "        # y_hat, h = model(x, e, h)\n",
    "        y_hat = model(snapshot.x, snapshot.edge_index, snapshot.edge_attr)\n",
    "\n",
    "        # Getting the focal loss\n",
    "        cost = cost + focal_loss(y_hat.squeeze(), snapshot.y.long())\n",
    "        pred = y_hat.argmax(dim=1)  # Use the class with highest probability.\n",
    "        yp = np.array(pred.cpu()).flatten()\n",
    "        yt = np.array(snapshot.y.cpu()).flatten()\n",
    "        # Find the indices where yt is equal to 4\n",
    "        indices_to_remove = np.where(yt == 4)\n",
    "        yp = np.delete(yp, indices_to_remove)\n",
    "        yt = np.delete(yt, indices_to_remove)\n",
    "        correct += int((yp == yt).sum()) \n",
    "        count += len(yt)\n",
    "    cost = cost / (time+1) #Getting the mean loss\n",
    "    cost.backward()\n",
    "    optimizer.step()\n",
    "    optimizer.zero_grad()\n",
    "    \n",
    "    accuracy = correct / count\n",
    "\n",
    "    return accuracy, cost\n",
    "\n",
    "def validate_one_epoch(validation_loader, e):\n",
    "    model.eval()\n",
    "\n",
    "    # Initial parameters\n",
    "    cost = 0\n",
    "    h = None\n",
    "    count = 0 \n",
    "    correct = 0\n",
    "    for time, snapshot in enumerate(validation_loader):\n",
    "        snapshot.to(device)\n",
    "        # x = snapshot.x.view(1, no_of_nodes, no_of_node_features)\n",
    "        # y_hat, h = model(x, e, h)\n",
    "        y_hat = model(snapshot.x, snapshot.edge_index, snapshot.edge_attr)\n",
    "\n",
    "        # Getting the focal loss\n",
    "        cost = cost + focal_loss(y_hat.squeeze(), snapshot.y.long())\n",
    "        pred = y_hat.argmax(dim=1)  # Use the class with highest probability.\n",
    "        yp = np.array(pred.cpu()).flatten()\n",
    "        yt = np.array(snapshot.y.cpu()).flatten()\n",
    "        # Find the indices where yt is equal to 4\n",
    "        indices_to_remove = np.where(yt == 4)\n",
    "        yp = np.delete(yp, indices_to_remove)\n",
    "        yt = np.delete(yt, indices_to_remove)\n",
    "\n",
    "        correct += int((yp == yt).sum()) \n",
    "        count += len(yt)\n",
    "    cost = cost / (time+1) #Getting the mean loss\n",
    "    \n",
    "    accuracy = correct / count\n",
    "    return accuracy, cost\n"
   ]
  },
  {
   "cell_type": "code",
   "execution_count": null,
   "metadata": {},
   "outputs": [],
   "source": [
    "\n",
    "\n",
    "class FocalLoss(nn.Module):\n",
    "    def __init__(self, alpha=None, gamma=2):\n",
    "        super(FocalLoss, self).__init__()\n",
    "        self.alpha = alpha\n",
    "        self.gamma = gamma\n",
    "\n",
    "    def forward(self, inputs, targets):\n",
    "        ce_loss = F.cross_entropy(inputs, targets, reduction='none')\n",
    "        pt = torch.exp(-ce_loss)\n",
    "        loss = (self.alpha[targets] * (1 - pt) ** self.gamma * ce_loss).mean()\n",
    "        return loss\n",
    "    \n",
    "class EarlyStopper:\n",
    "    def __init__(self, patience=1, min_delta=0):\n",
    "        self.patience = patience\n",
    "        self.min_delta = min_delta\n",
    "        self.counter = 0\n",
    "        self.min_validation_loss = np.inf\n",
    "\n",
    "    def early_stop(self, validation_loss):\n",
    "\n",
    "        if validation_loss < self.min_validation_loss:\n",
    "            self.min_validation_loss = validation_loss\n",
    "            self.counter = 0\n",
    "        elif validation_loss > (self.min_validation_loss + self.min_delta):\n",
    "            self.counter += 1\n",
    "            if self.counter >= self.patience:\n",
    "                return True\n",
    "        return False"
   ]
  },
  {
   "cell_type": "code",
   "execution_count": null,
   "metadata": {},
   "outputs": [],
   "source": [
    "# Data(x=[45, 10], edge_index=[2, 94], edge_attr=[94, 7], y=[45])"
   ]
  },
  {
   "cell_type": "code",
   "execution_count": null,
   "metadata": {},
   "outputs": [],
   "source": [
    "# no_of_nodes = 45\n",
    "no_of_node_features = 10\n",
    "num_classes = 5\n",
    "lr = 0.01\n",
    "edge_features = 1\n",
    "\n",
    "EPOCHS = 400\n",
    "patience = 150\n",
    "early_stopper = EarlyStopper(patience=patience, min_delta=0)\n",
    "\n",
    "# class RecurrentGCN(torch.nn.Module):\n",
    "#     def __init__(self, node_features, num_classes):\n",
    "#         super(RecurrentGCN, self).__init__()\n",
    "#         self.transform = torch.nn.Linear(node_features,32)\n",
    "\n",
    "#         self.recurrent = GConvGRU(in_channels = 32,\n",
    "#                               out_channels = 32,K=3)\n",
    "        \n",
    "#         self.linear1 = torch.nn.Linear(node_features, 32)\n",
    "\n",
    "\n",
    "#         # Future work add some MLP layers, increase out channels - to 64.in the future\n",
    "#         self.mlp = torch.nn.Sequential(\n",
    "#             torch.nn.Linear(32+node_features, 32),\n",
    "#             torch.nn.ReLU(),\n",
    "#             torch.nn.Dropout(0.5),\n",
    "#             torch.nn.Linear(32, 16),\n",
    "#             torch.nn.ReLU(),\n",
    "#             torch.nn.Dropout(0.5),\n",
    "#             torch.nn.Linear(16,num_classes)\n",
    "#         )\n",
    "#         # torch.nn.Linear(node_features, 32)\n",
    "#         # self.linear2 = torch.nn.Linear(32+node_features, 32)\n",
    "#         # self.linear = torch.nn.Linear(32, num_classes)\n",
    "\n",
    "\n",
    "#     def forward(self, x, edge_index, edge_weight, prev_hidden_state):\n",
    "        \n",
    "#         x = self.transform(x)\n",
    "#         # Learning the edge attributes using MLP layer before sending in so it can be of dimension (no_of_features X 1)\n",
    "#         input_feat = x.clone()\n",
    "#         prev_hidden_state = self.recurrent(x, edge_index, edge_weight, prev_hidden_state).relu()\n",
    "#         # prev_hidden_state = F.relu(prev_hidden_state)\n",
    "        \n",
    "#         h = F.relu(self.linear1(prev_hidden_state))\n",
    "#         h = F.dropout(h,0.5)\n",
    "\n",
    "#         combined = torch.cat((input_feat,h),dim = 1)\n",
    "\n",
    "#         h = self.mlp(combined)\n",
    "\n",
    "#         # h = F.relu(self.linear2(combined))\n",
    "#         # h = self.linear(h)\n",
    "        \n",
    "#         h = F.log_softmax(h,dim=-1)\n",
    "#         return h, prev_hidden_state\n",
    "\n",
    "class RecurrentGCN(torch.nn.Module):\n",
    "    def __init__(self, node_features, num_classes):\n",
    "        super(RecurrentGCN, self).__init__()\n",
    "        self.recurrent = GConvGRU(in_channels = node_features,\n",
    "                              out_channels = node_features,K=3)\n",
    "        # Future work add some MLP layers, increase out channels - to 64.in the future\n",
    "        self.linear1 = torch.nn.Linear(node_features, 32)\n",
    "        self.linear2 = torch.nn.Linear(32, 16)\n",
    "        self.linear = torch.nn.Linear(16, num_classes)\n",
    "\n",
    "    def forward(self, x, edge_index, edge_weight):\n",
    "        h = self.recurrent(x, edge_index, edge_weight)\n",
    "        h = F.relu(h)\n",
    "\n",
    "        h = F.relu(self.linear1(h))\n",
    "        h = F.relu(self.linear2(h))\n",
    "        h = self.linear(h)\n",
    "        h = F.log_softmax(h,dim=-1)\n",
    "        return h\n",
    "        \n",
    "model = RecurrentGCN(node_features = no_of_node_features, num_classes=num_classes)\n",
    "model = model.to(device)\n",
    "optimizer = torch.optim.Adam(model.parameters(), lr=lr)\n"
   ]
  },
  {
   "cell_type": "code",
   "execution_count": null,
   "metadata": {},
   "outputs": [
    {
     "ename": "TypeError",
     "evalue": "expected TensorOptions(dtype=float, device=cpu, layout=Strided, requires_grad=false (default), pinned_memory=false (default), memory_format=(nullopt)) (got TensorOptions(dtype=float, device=cuda:0, layout=Strided, requires_grad=false (default), pinned_memory=false (default), memory_format=(nullopt)))",
     "output_type": "error",
     "traceback": [
      "\u001b[0;31m---------------------------------------------------------------------------\u001b[0m",
      "\u001b[0;31mTypeError\u001b[0m                                 Traceback (most recent call last)",
      "\u001b[1;32m/home/sgupta/WORK/Stoplevel_day_ahead_prediction/SNA_Project_static_graph/04_train_static_1_hr_GConvGRU_static.ipynb Cell 21\u001b[0m line \u001b[0;36m1\n\u001b[0;32m----> <a href='vscode-notebook-cell://ssh-remote%2Bdigital-storm-3/home/sgupta/WORK/Stoplevel_day_ahead_prediction/SNA_Project_static_graph/04_train_static_1_hr_GConvGRU_static.ipynb#X25sdnNjb2RlLXJlbW90ZQ%3D%3D?line=0'>1</a>\u001b[0m class_weights \u001b[39m=\u001b[39m torch\u001b[39m.\u001b[39;49mFloatTensor(class_weights)\u001b[39m.\u001b[39mto(device)\n\u001b[1;32m      <a href='vscode-notebook-cell://ssh-remote%2Bdigital-storm-3/home/sgupta/WORK/Stoplevel_day_ahead_prediction/SNA_Project_static_graph/04_train_static_1_hr_GConvGRU_static.ipynb#X25sdnNjb2RlLXJlbW90ZQ%3D%3D?line=1'>2</a>\u001b[0m focal_loss \u001b[39m=\u001b[39m torch\u001b[39m.\u001b[39mhub\u001b[39m.\u001b[39mload(\n\u001b[1;32m      <a href='vscode-notebook-cell://ssh-remote%2Bdigital-storm-3/home/sgupta/WORK/Stoplevel_day_ahead_prediction/SNA_Project_static_graph/04_train_static_1_hr_GConvGRU_static.ipynb#X25sdnNjb2RlLXJlbW90ZQ%3D%3D?line=2'>3</a>\u001b[0m \t\u001b[39m'\u001b[39m\u001b[39madeelh/pytorch-multi-class-focal-loss\u001b[39m\u001b[39m'\u001b[39m,\n\u001b[1;32m      <a href='vscode-notebook-cell://ssh-remote%2Bdigital-storm-3/home/sgupta/WORK/Stoplevel_day_ahead_prediction/SNA_Project_static_graph/04_train_static_1_hr_GConvGRU_static.ipynb#X25sdnNjb2RlLXJlbW90ZQ%3D%3D?line=3'>4</a>\u001b[0m \tmodel\u001b[39m=\u001b[39m\u001b[39m'\u001b[39m\u001b[39mFocalLoss\u001b[39m\u001b[39m'\u001b[39m,\n\u001b[0;32m   (...)\u001b[0m\n\u001b[1;32m      <a href='vscode-notebook-cell://ssh-remote%2Bdigital-storm-3/home/sgupta/WORK/Stoplevel_day_ahead_prediction/SNA_Project_static_graph/04_train_static_1_hr_GConvGRU_static.ipynb#X25sdnNjb2RlLXJlbW90ZQ%3D%3D?line=7'>8</a>\u001b[0m \tforce_reload\u001b[39m=\u001b[39m\u001b[39mFalse\u001b[39;00m\n\u001b[1;32m      <a href='vscode-notebook-cell://ssh-remote%2Bdigital-storm-3/home/sgupta/WORK/Stoplevel_day_ahead_prediction/SNA_Project_static_graph/04_train_static_1_hr_GConvGRU_static.ipynb#X25sdnNjb2RlLXJlbW90ZQ%3D%3D?line=8'>9</a>\u001b[0m )\u001b[39m.\u001b[39mto(device)\n",
      "\u001b[0;31mTypeError\u001b[0m: expected TensorOptions(dtype=float, device=cpu, layout=Strided, requires_grad=false (default), pinned_memory=false (default), memory_format=(nullopt)) (got TensorOptions(dtype=float, device=cuda:0, layout=Strided, requires_grad=false (default), pinned_memory=false (default), memory_format=(nullopt)))"
     ]
    }
   ],
   "source": [
    "class_weights = torch.FloatTensor(class_weights).to(device)\n",
    "focal_loss = torch.hub.load(\n",
    "\t'adeelh/pytorch-multi-class-focal-loss',\n",
    "\tmodel='FocalLoss',\n",
    "\talpha=class_weights,\n",
    "\tgamma=2,\n",
    "\treduction='mean',\n",
    "\tforce_reload=False\n",
    ").to(device)"
   ]
  },
  {
   "cell_type": "code",
   "execution_count": null,
   "metadata": {},
   "outputs": [
    {
     "name": "stderr",
     "output_type": "stream",
     "text": [
      "  0%|          | 1/400 [01:20<8:52:15, 80.04s/it]"
     ]
    },
    {
     "name": "stdout",
     "output_type": "stream",
     "text": [
      "Epoch: 000, Train Acc: 0.3395, Train Loss: 5.2579, Val Acc: 0.3345, Val Loss: 8.3950\n",
      "Epoch: 001, Train Acc: 0.3395, Train Loss: 5.1720, Val Acc: 0.3345, Val Loss: 8.2684\n"
     ]
    },
    {
     "name": "stderr",
     "output_type": "stream",
     "text": [
      "  0%|          | 2/400 [02:39<8:49:06, 79.76s/it]"
     ]
    },
    {
     "name": "stdout",
     "output_type": "stream",
     "text": [
      "Epoch: 002, Train Acc: 0.3395, Train Loss: 5.1026, Val Acc: 0.3345, Val Loss: 8.1348\n"
     ]
    },
    {
     "name": "stderr",
     "output_type": "stream",
     "text": [
      "  1%|          | 3/400 [03:59<8:48:58, 79.94s/it]"
     ]
    },
    {
     "name": "stdout",
     "output_type": "stream",
     "text": [
      "Epoch: 003, Train Acc: 0.3395, Train Loss: 5.0296, Val Acc: 0.3345, Val Loss: 7.9629\n"
     ]
    },
    {
     "name": "stderr",
     "output_type": "stream",
     "text": [
      "  1%|          | 4/400 [05:44<9:53:22, 89.91s/it]"
     ]
    },
    {
     "name": "stdout",
     "output_type": "stream",
     "text": [
      "Epoch: 004, Train Acc: 0.3395, Train Loss: 4.9394, Val Acc: 0.3904, Val Loss: 7.7338\n"
     ]
    },
    {
     "name": "stderr",
     "output_type": "stream",
     "text": [
      "  1%|▏         | 5/400 [07:50<11:16:22, 102.74s/it]"
     ]
    },
    {
     "name": "stdout",
     "output_type": "stream",
     "text": [
      "Epoch: 005, Train Acc: 0.4205, Train Loss: 4.8275, Val Acc: 0.4199, Val Loss: 7.4742\n"
     ]
    },
    {
     "name": "stderr",
     "output_type": "stream",
     "text": [
      "  2%|▏         | 6/400 [09:18<10:40:59, 97.61s/it] "
     ]
    },
    {
     "name": "stdout",
     "output_type": "stream",
     "text": [
      "Epoch: 006, Train Acc: 0.3751, Train Loss: 4.7083, Val Acc: 0.3238, Val Loss: 7.2186\n"
     ]
    },
    {
     "name": "stderr",
     "output_type": "stream",
     "text": [
      "  2%|▏         | 7/400 [10:38<10:02:01, 91.91s/it]"
     ]
    },
    {
     "name": "stdout",
     "output_type": "stream",
     "text": [
      "Epoch: 007, Train Acc: 0.2472, Train Loss: 4.6065, Val Acc: 0.2491, Val Loss: 6.9856\n"
     ]
    },
    {
     "name": "stderr",
     "output_type": "stream",
     "text": [
      "  2%|▏         | 8/400 [11:58<9:35:50, 88.14s/it] "
     ]
    },
    {
     "name": "stdout",
     "output_type": "stream",
     "text": [
      "Epoch: 008, Train Acc: 0.1832, Train Loss: 4.5099, Val Acc: 0.2206, Val Loss: 6.7994\n"
     ]
    },
    {
     "name": "stderr",
     "output_type": "stream",
     "text": [
      "  2%|▏         | 9/400 [13:19<9:19:24, 85.84s/it]"
     ]
    },
    {
     "name": "stdout",
     "output_type": "stream",
     "text": [
      "Epoch: 009, Train Acc: 0.1572, Train Loss: 4.4341, Val Acc: 0.2065, Val Loss: 6.6574\n"
     ]
    },
    {
     "name": "stderr",
     "output_type": "stream",
     "text": [
      "  2%|▎         | 10/400 [14:41<9:10:27, 84.69s/it]"
     ]
    },
    {
     "name": "stdout",
     "output_type": "stream",
     "text": [
      "Epoch: 010, Train Acc: 0.1458, Train Loss: 4.3613, Val Acc: 0.2190, Val Loss: 6.5831\n"
     ]
    },
    {
     "name": "stderr",
     "output_type": "stream",
     "text": [
      "  3%|▎         | 11/400 [16:03<9:03:51, 83.89s/it]"
     ]
    },
    {
     "name": "stdout",
     "output_type": "stream",
     "text": [
      "Epoch: 011, Train Acc: 0.1580, Train Loss: 4.2925, Val Acc: 0.2225, Val Loss: 6.5761\n"
     ]
    },
    {
     "name": "stderr",
     "output_type": "stream",
     "text": [
      "  3%|▎         | 13/400 [18:44<8:49:25, 82.08s/it]"
     ]
    },
    {
     "name": "stdout",
     "output_type": "stream",
     "text": [
      "Epoch: 012, Train Acc: 0.2035, Train Loss: 4.2305, Val Acc: 0.3434, Val Loss: 6.6016\n"
     ]
    },
    {
     "name": "stderr",
     "output_type": "stream",
     "text": [
      "  4%|▎         | 14/400 [20:05<8:46:03, 81.77s/it]"
     ]
    },
    {
     "name": "stdout",
     "output_type": "stream",
     "text": [
      "Epoch: 013, Train Acc: 0.3662, Train Loss: 4.1779, Val Acc: 0.4919, Val Loss: 6.6198\n"
     ]
    },
    {
     "name": "stderr",
     "output_type": "stream",
     "text": [
      "  4%|▍         | 15/400 [21:25<8:42:02, 81.36s/it]"
     ]
    },
    {
     "name": "stdout",
     "output_type": "stream",
     "text": [
      "Epoch: 014, Train Acc: 0.4941, Train Loss: 4.1428, Val Acc: 0.3670, Val Loss: 6.6346\n"
     ]
    },
    {
     "name": "stderr",
     "output_type": "stream",
     "text": [
      "  4%|▍         | 16/400 [22:46<8:38:52, 81.07s/it]"
     ]
    },
    {
     "name": "stdout",
     "output_type": "stream",
     "text": [
      "Epoch: 015, Train Acc: 0.3650, Train Loss: 4.1377, Val Acc: 0.3345, Val Loss: 6.6057\n",
      "Epoch: 016, Train Acc: 0.3395, Train Loss: 4.1278, Val Acc: 0.3662, Val Loss: 6.5115\n"
     ]
    },
    {
     "name": "stderr",
     "output_type": "stream",
     "text": [
      "  4%|▍         | 17/400 [24:06<8:36:16, 80.88s/it]"
     ]
    },
    {
     "name": "stdout",
     "output_type": "stream",
     "text": [
      "Epoch: 017, Train Acc: 0.3640, Train Loss: 4.0915, Val Acc: 0.3426, Val Loss: 6.3953\n"
     ]
    },
    {
     "name": "stderr",
     "output_type": "stream",
     "text": [
      "  4%|▍         | 18/400 [25:29<8:38:19, 81.41s/it]"
     ]
    },
    {
     "name": "stdout",
     "output_type": "stream",
     "text": [
      "Epoch: 018, Train Acc: 0.3335, Train Loss: 4.0450, Val Acc: 0.4230, Val Loss: 6.3234\n"
     ]
    },
    {
     "name": "stderr",
     "output_type": "stream",
     "text": [
      "  5%|▍         | 19/400 [26:51<8:38:20, 81.63s/it]"
     ]
    },
    {
     "name": "stdout",
     "output_type": "stream",
     "text": [
      "Epoch: 019, Train Acc: 0.4145, Train Loss: 4.0180, Val Acc: 0.3889, Val Loss: 6.3064\n"
     ]
    },
    {
     "name": "stderr",
     "output_type": "stream",
     "text": [
      "  5%|▌         | 20/400 [28:13<8:37:46, 81.75s/it]"
     ]
    },
    {
     "name": "stdout",
     "output_type": "stream",
     "text": [
      "Epoch: 020, Train Acc: 0.3885, Train Loss: 4.0163, Val Acc: 0.3066, Val Loss: 6.2964\n"
     ]
    },
    {
     "name": "stderr",
     "output_type": "stream",
     "text": [
      "  5%|▌         | 21/400 [29:35<8:36:58, 81.84s/it]"
     ]
    },
    {
     "name": "stdout",
     "output_type": "stream",
     "text": [
      "Epoch: 021, Train Acc: 0.2982, Train Loss: 4.0097, Val Acc: 0.3178, Val Loss: 6.2643\n"
     ]
    },
    {
     "name": "stderr",
     "output_type": "stream",
     "text": [
      "  6%|▌         | 22/400 [30:57<8:36:05, 81.92s/it]"
     ]
    },
    {
     "name": "stdout",
     "output_type": "stream",
     "text": [
      "Epoch: 022, Train Acc: 0.3061, Train Loss: 3.9767, Val Acc: 0.4008, Val Loss: 6.2344\n"
     ]
    },
    {
     "name": "stderr",
     "output_type": "stream",
     "text": [
      "  6%|▌         | 24/400 [33:38<8:27:56, 81.05s/it]"
     ]
    },
    {
     "name": "stdout",
     "output_type": "stream",
     "text": [
      "Epoch: 023, Train Acc: 0.3847, Train Loss: 3.9356, Val Acc: 0.3615, Val Loss: 6.2512\n"
     ]
    },
    {
     "name": "stderr",
     "output_type": "stream",
     "text": [
      "  6%|▋         | 25/400 [35:00<8:27:53, 81.26s/it]"
     ]
    },
    {
     "name": "stdout",
     "output_type": "stream",
     "text": [
      "Epoch: 024, Train Acc: 0.3463, Train Loss: 3.9156, Val Acc: 0.3770, Val Loss: 6.2902\n"
     ]
    },
    {
     "name": "stderr",
     "output_type": "stream",
     "text": [
      "  6%|▋         | 26/400 [36:21<8:27:46, 81.46s/it]"
     ]
    },
    {
     "name": "stdout",
     "output_type": "stream",
     "text": [
      "Epoch: 025, Train Acc: 0.3585, Train Loss: 3.9100, Val Acc: 0.3872, Val Loss: 6.2927\n"
     ]
    },
    {
     "name": "stderr",
     "output_type": "stream",
     "text": [
      "  7%|▋         | 27/400 [37:42<8:23:51, 81.05s/it]"
     ]
    },
    {
     "name": "stdout",
     "output_type": "stream",
     "text": [
      "Epoch: 026, Train Acc: 0.3727, Train Loss: 3.8933, Val Acc: 0.3949, Val Loss: 6.2403\n",
      "Epoch: 027, Train Acc: 0.3828, Train Loss: 3.8623, Val Acc: 0.3399, Val Loss: 6.1643\n"
     ]
    },
    {
     "name": "stderr",
     "output_type": "stream",
     "text": [
      "  7%|▋         | 28/400 [39:02<8:21:02, 80.81s/it]"
     ]
    },
    {
     "name": "stdout",
     "output_type": "stream",
     "text": [
      "Epoch: 028, Train Acc: 0.3117, Train Loss: 3.8341, Val Acc: 0.3169, Val Loss: 6.1080\n"
     ]
    },
    {
     "name": "stderr",
     "output_type": "stream",
     "text": [
      "  7%|▋         | 29/400 [40:22<8:18:51, 80.68s/it]"
     ]
    },
    {
     "name": "stdout",
     "output_type": "stream",
     "text": [
      "Epoch: 029, Train Acc: 0.2813, Train Loss: 3.8202, Val Acc: 0.3565, Val Loss: 6.0720\n"
     ]
    },
    {
     "name": "stderr",
     "output_type": "stream",
     "text": [
      "  8%|▊         | 30/400 [41:42<8:16:13, 80.47s/it]"
     ]
    },
    {
     "name": "stdout",
     "output_type": "stream",
     "text": [
      "Epoch: 030, Train Acc: 0.3293, Train Loss: 3.8096, Val Acc: 0.3531, Val Loss: 6.0440\n"
     ]
    },
    {
     "name": "stderr",
     "output_type": "stream",
     "text": [
      "  8%|▊         | 31/400 [43:02<8:13:46, 80.29s/it]"
     ]
    },
    {
     "name": "stdout",
     "output_type": "stream",
     "text": [
      "Epoch: 031, Train Acc: 0.3268, Train Loss: 3.7890, Val Acc: 0.3111, Val Loss: 6.0335\n"
     ]
    },
    {
     "name": "stderr",
     "output_type": "stream",
     "text": [
      "  8%|▊         | 33/400 [45:42<8:09:26, 80.02s/it]"
     ]
    },
    {
     "name": "stdout",
     "output_type": "stream",
     "text": [
      "Epoch: 032, Train Acc: 0.2739, Train Loss: 3.7613, Val Acc: 0.3377, Val Loss: 6.0528\n"
     ]
    },
    {
     "name": "stderr",
     "output_type": "stream",
     "text": [
      "  8%|▊         | 34/400 [47:03<8:11:17, 80.54s/it]"
     ]
    },
    {
     "name": "stdout",
     "output_type": "stream",
     "text": [
      "Epoch: 033, Train Acc: 0.3099, Train Loss: 3.7403, Val Acc: 0.3741, Val Loss: 6.0784\n"
     ]
    },
    {
     "name": "stderr",
     "output_type": "stream",
     "text": [
      "  9%|▉         | 35/400 [48:26<8:12:58, 81.04s/it]"
     ]
    },
    {
     "name": "stdout",
     "output_type": "stream",
     "text": [
      "Epoch: 034, Train Acc: 0.3600, Train Loss: 3.7286, Val Acc: 0.3878, Val Loss: 6.0654\n",
      "Epoch: 035, Train Acc: 0.3753, Train Loss: 3.7137, Val Acc: 0.3537, Val Loss: 6.0078\n"
     ]
    },
    {
     "name": "stderr",
     "output_type": "stream",
     "text": [
      "  9%|▉         | 36/400 [49:48<8:14:18, 81.48s/it]"
     ]
    },
    {
     "name": "stdout",
     "output_type": "stream",
     "text": [
      "Epoch: 036, Train Acc: 0.3333, Train Loss: 3.6909, Val Acc: 0.3342, Val Loss: 5.9435\n"
     ]
    },
    {
     "name": "stderr",
     "output_type": "stream",
     "text": [
      "  9%|▉         | 37/400 [51:11<8:14:54, 81.80s/it]"
     ]
    },
    {
     "name": "stdout",
     "output_type": "stream",
     "text": [
      "Epoch: 037, Train Acc: 0.3071, Train Loss: 3.6688, Val Acc: 0.3051, Val Loss: 5.9034\n"
     ]
    },
    {
     "name": "stderr",
     "output_type": "stream",
     "text": [
      " 10%|▉         | 38/400 [52:33<8:14:21, 81.94s/it]"
     ]
    },
    {
     "name": "stdout",
     "output_type": "stream",
     "text": [
      "Epoch: 038, Train Acc: 0.2695, Train Loss: 3.6528, Val Acc: 0.3091, Val Loss: 5.8798\n"
     ]
    },
    {
     "name": "stderr",
     "output_type": "stream",
     "text": [
      " 10%|▉         | 39/400 [53:55<8:13:14, 81.98s/it]"
     ]
    },
    {
     "name": "stdout",
     "output_type": "stream",
     "text": [
      "Epoch: 039, Train Acc: 0.2723, Train Loss: 3.6388, Val Acc: 0.3094, Val Loss: 5.8598\n"
     ]
    },
    {
     "name": "stderr",
     "output_type": "stream",
     "text": [
      " 10%|█         | 40/400 [55:17<8:11:41, 81.95s/it]"
     ]
    },
    {
     "name": "stdout",
     "output_type": "stream",
     "text": [
      "Epoch: 040, Train Acc: 0.2726, Train Loss: 3.6210, Val Acc: 0.3120, Val Loss: 5.8454\n"
     ]
    },
    {
     "name": "stderr",
     "output_type": "stream",
     "text": [
      " 10%|█         | 41/400 [56:38<8:08:03, 81.57s/it]"
     ]
    },
    {
     "name": "stdout",
     "output_type": "stream",
     "text": [
      "Epoch: 041, Train Acc: 0.2780, Train Loss: 3.5997, Val Acc: 0.3485, Val Loss: 5.8415\n"
     ]
    },
    {
     "name": "stderr",
     "output_type": "stream",
     "text": [
      " 10%|█         | 42/400 [57:58<8:04:03, 81.13s/it]"
     ]
    },
    {
     "name": "stdout",
     "output_type": "stream",
     "text": [
      "Epoch: 042, Train Acc: 0.3286, Train Loss: 3.5820, Val Acc: 0.3554, Val Loss: 5.8319\n"
     ]
    },
    {
     "name": "stderr",
     "output_type": "stream",
     "text": [
      " 11%|█         | 43/400 [59:19<8:03:53, 81.33s/it]"
     ]
    },
    {
     "name": "stdout",
     "output_type": "stream",
     "text": [
      "Epoch: 043, Train Acc: 0.3383, Train Loss: 3.5684, Val Acc: 0.3558, Val Loss: 5.8099\n"
     ]
    },
    {
     "name": "stderr",
     "output_type": "stream",
     "text": [
      " 11%|█         | 44/400 [1:00:39<7:59:57, 80.89s/it]"
     ]
    },
    {
     "name": "stdout",
     "output_type": "stream",
     "text": [
      "Epoch: 044, Train Acc: 0.3398, Train Loss: 3.5526, Val Acc: 0.3536, Val Loss: 5.7817\n"
     ]
    },
    {
     "name": "stderr",
     "output_type": "stream",
     "text": [
      " 11%|█▏        | 45/400 [1:02:01<8:00:41, 81.24s/it]"
     ]
    },
    {
     "name": "stdout",
     "output_type": "stream",
     "text": [
      "Epoch: 045, Train Acc: 0.3394, Train Loss: 3.5340, Val Acc: 0.3494, Val Loss: 5.7461\n"
     ]
    },
    {
     "name": "stderr",
     "output_type": "stream",
     "text": [
      " 12%|█▏        | 46/400 [1:03:24<8:01:05, 81.54s/it]"
     ]
    },
    {
     "name": "stdout",
     "output_type": "stream",
     "text": [
      "Epoch: 046, Train Acc: 0.3361, Train Loss: 3.5174, Val Acc: 0.3399, Val Loss: 5.7106\n"
     ]
    },
    {
     "name": "stderr",
     "output_type": "stream",
     "text": [
      " 12%|█▏        | 47/400 [1:04:45<8:00:18, 81.64s/it]"
     ]
    },
    {
     "name": "stdout",
     "output_type": "stream",
     "text": [
      "Epoch: 047, Train Acc: 0.3229, Train Loss: 3.5040, Val Acc: 0.3447, Val Loss: 5.6902\n"
     ]
    },
    {
     "name": "stderr",
     "output_type": "stream",
     "text": [
      " 12%|█▏        | 48/400 [1:06:08<8:00:01, 81.82s/it]"
     ]
    },
    {
     "name": "stdout",
     "output_type": "stream",
     "text": [
      "Epoch: 048, Train Acc: 0.3313, Train Loss: 3.4900, Val Acc: 0.3501, Val Loss: 5.6769\n"
     ]
    },
    {
     "name": "stderr",
     "output_type": "stream",
     "text": [
      " 12%|█▏        | 49/400 [1:07:30<7:59:43, 82.00s/it]"
     ]
    },
    {
     "name": "stdout",
     "output_type": "stream",
     "text": [
      "Epoch: 049, Train Acc: 0.3383, Train Loss: 3.4745, Val Acc: 0.3633, Val Loss: 5.6716\n"
     ]
    },
    {
     "name": "stderr",
     "output_type": "stream",
     "text": [
      " 12%|█▎        | 50/400 [1:08:52<7:58:41, 82.06s/it]"
     ]
    },
    {
     "name": "stdout",
     "output_type": "stream",
     "text": [
      "Epoch: 050, Train Acc: 0.3558, Train Loss: 3.4599, Val Acc: 0.3685, Val Loss: 5.6708\n"
     ]
    },
    {
     "name": "stderr",
     "output_type": "stream",
     "text": [
      " 13%|█▎        | 51/400 [1:10:15<7:58:39, 82.29s/it]"
     ]
    },
    {
     "name": "stdout",
     "output_type": "stream",
     "text": [
      "Epoch: 051, Train Acc: 0.3641, Train Loss: 3.4474, Val Acc: 0.3664, Val Loss: 5.6526\n"
     ]
    },
    {
     "name": "stderr",
     "output_type": "stream",
     "text": [
      " 13%|█▎        | 52/400 [1:11:38<7:58:18, 82.47s/it]"
     ]
    },
    {
     "name": "stdout",
     "output_type": "stream",
     "text": [
      "Epoch: 052, Train Acc: 0.3661, Train Loss: 3.4349, Val Acc: 0.3644, Val Loss: 5.6230\n"
     ]
    },
    {
     "name": "stderr",
     "output_type": "stream",
     "text": [
      " 13%|█▎        | 53/400 [1:13:00<7:56:06, 82.32s/it]"
     ]
    },
    {
     "name": "stdout",
     "output_type": "stream",
     "text": [
      "Epoch: 053, Train Acc: 0.3669, Train Loss: 3.4208, Val Acc: 0.3642, Val Loss: 5.5928\n"
     ]
    },
    {
     "name": "stderr",
     "output_type": "stream",
     "text": [
      " 14%|█▎        | 54/400 [1:14:23<7:55:29, 82.46s/it]"
     ]
    },
    {
     "name": "stdout",
     "output_type": "stream",
     "text": [
      "Epoch: 054, Train Acc: 0.3679, Train Loss: 3.4066, Val Acc: 0.3573, Val Loss: 5.5655\n"
     ]
    },
    {
     "name": "stderr",
     "output_type": "stream",
     "text": [
      " 14%|█▍        | 55/400 [1:15:45<7:54:23, 82.50s/it]"
     ]
    },
    {
     "name": "stdout",
     "output_type": "stream",
     "text": [
      "Epoch: 055, Train Acc: 0.3590, Train Loss: 3.3938, Val Acc: 0.3550, Val Loss: 5.5466\n"
     ]
    },
    {
     "name": "stderr",
     "output_type": "stream",
     "text": [
      " 14%|█▍        | 56/400 [1:17:07<7:51:01, 82.15s/it]"
     ]
    },
    {
     "name": "stdout",
     "output_type": "stream",
     "text": [
      "Epoch: 056, Train Acc: 0.3569, Train Loss: 3.3815, Val Acc: 0.3537, Val Loss: 5.5228\n"
     ]
    },
    {
     "name": "stderr",
     "output_type": "stream",
     "text": [
      " 14%|█▍        | 57/400 [1:18:28<7:47:39, 81.81s/it]"
     ]
    },
    {
     "name": "stdout",
     "output_type": "stream",
     "text": [
      "Epoch: 057, Train Acc: 0.3582, Train Loss: 3.3683, Val Acc: 0.3556, Val Loss: 5.5095\n"
     ]
    },
    {
     "name": "stderr",
     "output_type": "stream",
     "text": [
      " 14%|█▍        | 58/400 [1:19:50<7:47:21, 81.99s/it]"
     ]
    },
    {
     "name": "stdout",
     "output_type": "stream",
     "text": [
      "Epoch: 058, Train Acc: 0.3655, Train Loss: 3.3551, Val Acc: 0.3492, Val Loss: 5.4912\n"
     ]
    },
    {
     "name": "stderr",
     "output_type": "stream",
     "text": [
      " 15%|█▌        | 60/400 [1:22:35<7:45:11, 82.09s/it]"
     ]
    },
    {
     "name": "stdout",
     "output_type": "stream",
     "text": [
      "Epoch: 059, Train Acc: 0.3595, Train Loss: 3.3430, Val Acc: 0.3538, Val Loss: 5.4915\n",
      "Epoch: 060, Train Acc: 0.3653, Train Loss: 3.3315, Val Acc: 0.3446, Val Loss: 5.4534\n"
     ]
    },
    {
     "name": "stderr",
     "output_type": "stream",
     "text": [
      " 16%|█▌        | 62/400 [1:25:19<7:42:43, 82.14s/it]"
     ]
    },
    {
     "name": "stdout",
     "output_type": "stream",
     "text": [
      "Epoch: 061, Train Acc: 0.3568, Train Loss: 3.3193, Val Acc: 0.3621, Val Loss: 5.4597\n",
      "Epoch: 062, Train Acc: 0.3821, Train Loss: 3.3078, Val Acc: 0.3231, Val Loss: 5.3740\n"
     ]
    },
    {
     "name": "stderr",
     "output_type": "stream",
     "text": [
      " 16%|█▌        | 64/400 [1:28:01<7:36:04, 81.44s/it]"
     ]
    },
    {
     "name": "stdout",
     "output_type": "stream",
     "text": [
      "Epoch: 063, Train Acc: 0.3380, Train Loss: 3.2999, Val Acc: 0.3906, Val Loss: 5.4681\n",
      "Epoch: 064, Train Acc: 0.4218, Train Loss: 3.2936, Val Acc: 0.3161, Val Loss: 5.3425\n"
     ]
    },
    {
     "name": "stderr",
     "output_type": "stream",
     "text": [
      " 16%|█▋        | 66/400 [1:30:42<7:30:02, 80.85s/it]"
     ]
    },
    {
     "name": "stdout",
     "output_type": "stream",
     "text": [
      "Epoch: 065, Train Acc: 0.3271, Train Loss: 3.2802, Val Acc: 0.3474, Val Loss: 5.3712\n"
     ]
    },
    {
     "name": "stderr",
     "output_type": "stream",
     "text": [
      " 17%|█▋        | 67/400 [1:32:02<7:27:27, 80.62s/it]"
     ]
    },
    {
     "name": "stdout",
     "output_type": "stream",
     "text": [
      "Epoch: 066, Train Acc: 0.3757, Train Loss: 3.2636, Val Acc: 0.3714, Val Loss: 5.4105\n",
      "Epoch: 067, Train Acc: 0.4112, Train Loss: 3.2590, Val Acc: 0.3186, Val Loss: 5.3086\n"
     ]
    },
    {
     "name": "stderr",
     "output_type": "stream",
     "text": [
      " 17%|█▋        | 69/400 [1:34:44<7:25:54, 80.83s/it]"
     ]
    },
    {
     "name": "stdout",
     "output_type": "stream",
     "text": [
      "Epoch: 068, Train Acc: 0.3439, Train Loss: 3.2489, Val Acc: 0.3387, Val Loss: 5.3158\n"
     ]
    },
    {
     "name": "stderr",
     "output_type": "stream",
     "text": [
      " 18%|█▊        | 70/400 [1:36:05<7:24:27, 80.81s/it]"
     ]
    },
    {
     "name": "stdout",
     "output_type": "stream",
     "text": [
      "Epoch: 069, Train Acc: 0.3758, Train Loss: 3.2343, Val Acc: 0.3671, Val Loss: 5.3521\n",
      "Epoch: 070, Train Acc: 0.4169, Train Loss: 3.2296, Val Acc: 0.3276, Val Loss: 5.2829\n"
     ]
    },
    {
     "name": "stderr",
     "output_type": "stream",
     "text": [
      " 18%|█▊        | 72/400 [1:38:47<7:21:39, 80.79s/it]"
     ]
    },
    {
     "name": "stdout",
     "output_type": "stream",
     "text": [
      "Epoch: 071, Train Acc: 0.3554, Train Loss: 3.2185, Val Acc: 0.3407, Val Loss: 5.2962\n"
     ]
    },
    {
     "name": "stderr",
     "output_type": "stream",
     "text": [
      " 18%|█▊        | 73/400 [1:40:08<7:21:07, 80.94s/it]"
     ]
    },
    {
     "name": "stdout",
     "output_type": "stream",
     "text": [
      "Epoch: 072, Train Acc: 0.3743, Train Loss: 3.2075, Val Acc: 0.3665, Val Loss: 5.3469\n",
      "Epoch: 073, Train Acc: 0.4174, Train Loss: 3.2023, Val Acc: 0.3359, Val Loss: 5.2769\n"
     ]
    },
    {
     "name": "stderr",
     "output_type": "stream",
     "text": [
      " 18%|█▊        | 74/400 [1:41:32<7:24:09, 81.75s/it]"
     ]
    },
    {
     "name": "stdout",
     "output_type": "stream",
     "text": [
      "Epoch: 074, Train Acc: 0.3684, Train Loss: 3.1909, Val Acc: 0.3376, Val Loss: 5.2694\n"
     ]
    },
    {
     "name": "stderr",
     "output_type": "stream",
     "text": [
      " 19%|█▉        | 76/400 [1:44:15<7:20:42, 81.61s/it]"
     ]
    },
    {
     "name": "stdout",
     "output_type": "stream",
     "text": [
      "Epoch: 075, Train Acc: 0.3742, Train Loss: 3.1843, Val Acc: 0.3639, Val Loss: 5.3041\n",
      "Epoch: 076, Train Acc: 0.4179, Train Loss: 3.1766, Val Acc: 0.3441, Val Loss: 5.2576\n"
     ]
    },
    {
     "name": "stderr",
     "output_type": "stream",
     "text": [
      " 19%|█▉        | 77/400 [1:45:38<7:21:23, 81.99s/it]"
     ]
    },
    {
     "name": "stdout",
     "output_type": "stream",
     "text": [
      "Epoch: 077, Train Acc: 0.3835, Train Loss: 3.1653, Val Acc: 0.3444, Val Loss: 5.2544\n"
     ]
    },
    {
     "name": "stderr",
     "output_type": "stream",
     "text": [
      " 20%|█▉        | 79/400 [1:48:23<7:20:27, 82.33s/it]"
     ]
    },
    {
     "name": "stdout",
     "output_type": "stream",
     "text": [
      "Epoch: 078, Train Acc: 0.3789, Train Loss: 3.1580, Val Acc: 0.3727, Val Loss: 5.3074\n"
     ]
    },
    {
     "name": "stderr",
     "output_type": "stream",
     "text": [
      " 20%|██        | 80/400 [1:49:45<7:18:46, 82.27s/it]"
     ]
    },
    {
     "name": "stdout",
     "output_type": "stream",
     "text": [
      "Epoch: 079, Train Acc: 0.4222, Train Loss: 3.1512, Val Acc: 0.3574, Val Loss: 5.2652\n",
      "Epoch: 080, Train Acc: 0.3943, Train Loss: 3.1408, Val Acc: 0.3543, Val Loss: 5.2511\n"
     ]
    },
    {
     "name": "stderr",
     "output_type": "stream",
     "text": [
      " 20%|██        | 82/400 [1:52:28<7:13:49, 81.85s/it]"
     ]
    },
    {
     "name": "stdout",
     "output_type": "stream",
     "text": [
      "Epoch: 081, Train Acc: 0.3879, Train Loss: 3.1336, Val Acc: 0.3766, Val Loss: 5.2906\n"
     ]
    },
    {
     "name": "stderr",
     "output_type": "stream",
     "text": [
      " 21%|██        | 83/400 [1:53:51<7:13:57, 82.14s/it]"
     ]
    },
    {
     "name": "stdout",
     "output_type": "stream",
     "text": [
      "Epoch: 082, Train Acc: 0.4249, Train Loss: 3.1267, Val Acc: 0.3615, Val Loss: 5.2531\n"
     ]
    },
    {
     "name": "stderr",
     "output_type": "stream",
     "text": [
      " 21%|██        | 84/400 [1:55:11<7:09:19, 81.52s/it]"
     ]
    },
    {
     "name": "stdout",
     "output_type": "stream",
     "text": [
      "Epoch: 083, Train Acc: 0.3992, Train Loss: 3.1174, Val Acc: 0.3620, Val Loss: 5.2553\n"
     ]
    },
    {
     "name": "stderr",
     "output_type": "stream",
     "text": [
      " 21%|██▏       | 85/400 [1:56:31<7:05:44, 81.09s/it]"
     ]
    },
    {
     "name": "stdout",
     "output_type": "stream",
     "text": [
      "Epoch: 084, Train Acc: 0.3979, Train Loss: 3.1104, Val Acc: 0.3835, Val Loss: 5.3102\n"
     ]
    },
    {
     "name": "stderr",
     "output_type": "stream",
     "text": [
      " 22%|██▏       | 86/400 [1:57:51<7:02:53, 80.81s/it]"
     ]
    },
    {
     "name": "stdout",
     "output_type": "stream",
     "text": [
      "Epoch: 085, Train Acc: 0.4291, Train Loss: 3.1043, Val Acc: 0.3684, Val Loss: 5.2704\n"
     ]
    },
    {
     "name": "stderr",
     "output_type": "stream",
     "text": [
      " 22%|██▏       | 87/400 [1:59:13<7:02:55, 81.07s/it]"
     ]
    },
    {
     "name": "stdout",
     "output_type": "stream",
     "text": [
      "Epoch: 086, Train Acc: 0.4015, Train Loss: 3.0961, Val Acc: 0.3762, Val Loss: 5.2867\n"
     ]
    },
    {
     "name": "stderr",
     "output_type": "stream",
     "text": [
      " 22%|██▏       | 88/400 [2:00:35<7:03:02, 81.35s/it]"
     ]
    },
    {
     "name": "stdout",
     "output_type": "stream",
     "text": [
      "Epoch: 087, Train Acc: 0.4130, Train Loss: 3.0883, Val Acc: 0.3876, Val Loss: 5.3119\n"
     ]
    },
    {
     "name": "stderr",
     "output_type": "stream",
     "text": [
      " 22%|██▏       | 89/400 [2:01:57<7:02:37, 81.54s/it]"
     ]
    },
    {
     "name": "stdout",
     "output_type": "stream",
     "text": [
      "Epoch: 088, Train Acc: 0.4307, Train Loss: 3.0824, Val Acc: 0.3686, Val Loss: 5.2622\n"
     ]
    },
    {
     "name": "stderr",
     "output_type": "stream",
     "text": [
      " 22%|██▎       | 90/400 [2:03:19<7:02:25, 81.76s/it]"
     ]
    },
    {
     "name": "stdout",
     "output_type": "stream",
     "text": [
      "Epoch: 089, Train Acc: 0.4024, Train Loss: 3.0761, Val Acc: 0.3840, Val Loss: 5.3029\n"
     ]
    },
    {
     "name": "stderr",
     "output_type": "stream",
     "text": [
      " 23%|██▎       | 91/400 [2:04:41<7:01:24, 81.83s/it]"
     ]
    },
    {
     "name": "stdout",
     "output_type": "stream",
     "text": [
      "Epoch: 090, Train Acc: 0.4274, Train Loss: 3.0685, Val Acc: 0.3799, Val Loss: 5.2991\n"
     ]
    },
    {
     "name": "stderr",
     "output_type": "stream",
     "text": [
      " 23%|██▎       | 92/400 [2:06:01<6:57:40, 81.36s/it]"
     ]
    },
    {
     "name": "stdout",
     "output_type": "stream",
     "text": [
      "Epoch: 091, Train Acc: 0.4224, Train Loss: 3.0615, Val Acc: 0.3713, Val Loss: 5.2825\n"
     ]
    },
    {
     "name": "stderr",
     "output_type": "stream",
     "text": [
      " 23%|██▎       | 93/400 [2:07:21<6:54:31, 81.02s/it]"
     ]
    },
    {
     "name": "stdout",
     "output_type": "stream",
     "text": [
      "Epoch: 092, Train Acc: 0.4101, Train Loss: 3.0560, Val Acc: 0.3899, Val Loss: 5.3318\n"
     ]
    },
    {
     "name": "stderr",
     "output_type": "stream",
     "text": [
      " 24%|██▎       | 94/400 [2:08:42<6:51:52, 80.76s/it]"
     ]
    },
    {
     "name": "stdout",
     "output_type": "stream",
     "text": [
      "Epoch: 093, Train Acc: 0.4376, Train Loss: 3.0504, Val Acc: 0.3724, Val Loss: 5.2844\n"
     ]
    },
    {
     "name": "stderr",
     "output_type": "stream",
     "text": [
      " 24%|██▍       | 95/400 [2:10:02<6:49:54, 80.64s/it]"
     ]
    },
    {
     "name": "stdout",
     "output_type": "stream",
     "text": [
      "Epoch: 094, Train Acc: 0.4133, Train Loss: 3.0441, Val Acc: 0.3837, Val Loss: 5.3124\n"
     ]
    },
    {
     "name": "stderr",
     "output_type": "stream",
     "text": [
      " 24%|██▍       | 96/400 [2:11:22<6:47:45, 80.48s/it]"
     ]
    },
    {
     "name": "stdout",
     "output_type": "stream",
     "text": [
      "Epoch: 095, Train Acc: 0.4312, Train Loss: 3.0376, Val Acc: 0.3833, Val Loss: 5.3126\n"
     ]
    },
    {
     "name": "stderr",
     "output_type": "stream",
     "text": [
      " 24%|██▍       | 97/400 [2:12:42<6:45:43, 80.34s/it]"
     ]
    },
    {
     "name": "stdout",
     "output_type": "stream",
     "text": [
      "Epoch: 096, Train Acc: 0.4303, Train Loss: 3.0320, Val Acc: 0.3753, Val Loss: 5.2979\n"
     ]
    },
    {
     "name": "stderr",
     "output_type": "stream",
     "text": [
      " 24%|██▍       | 98/400 [2:14:02<6:44:01, 80.27s/it]"
     ]
    },
    {
     "name": "stdout",
     "output_type": "stream",
     "text": [
      "Epoch: 097, Train Acc: 0.4184, Train Loss: 3.0273, Val Acc: 0.3929, Val Loss: 5.3492\n"
     ]
    },
    {
     "name": "stderr",
     "output_type": "stream",
     "text": [
      " 25%|██▍       | 99/400 [2:15:22<6:42:25, 80.22s/it]"
     ]
    },
    {
     "name": "stdout",
     "output_type": "stream",
     "text": [
      "Epoch: 098, Train Acc: 0.4439, Train Loss: 3.0229, Val Acc: 0.3748, Val Loss: 5.2953\n"
     ]
    },
    {
     "name": "stderr",
     "output_type": "stream",
     "text": [
      " 25%|██▌       | 100/400 [2:16:46<6:46:09, 81.23s/it]"
     ]
    },
    {
     "name": "stdout",
     "output_type": "stream",
     "text": [
      "Epoch: 099, Train Acc: 0.4149, Train Loss: 3.0182, Val Acc: 0.3966, Val Loss: 5.3475\n"
     ]
    },
    {
     "name": "stderr",
     "output_type": "stream",
     "text": [
      " 25%|██▌       | 101/400 [2:18:16<6:58:03, 83.89s/it]"
     ]
    },
    {
     "name": "stdout",
     "output_type": "stream",
     "text": [
      "Epoch: 100, Train Acc: 0.4460, Train Loss: 3.0128, Val Acc: 0.3835, Val Loss: 5.3084\n"
     ]
    }
   ],
   "source": [
    "\n",
    "model_checkpoint_path = './model_checkpoint/GConvGRU/'\n",
    "pathlib.Path(model_checkpoint_path).mkdir(parents=True, exist_ok=True) \n",
    "\n",
    "e = None\n",
    "# e = torch.empty(no_of_nodes, 4)\n",
    "# torch.nn.init.xavier_uniform_(e)\n",
    "\n",
    "history = {\n",
    "    'epoch':[],\n",
    "    'train_acc':[],\n",
    "    'validation_acc':[],\n",
    "    'train_loss':[],\n",
    "    'validation_loss':[]\n",
    "}\n",
    "\n",
    "for epoch in tqdm(range(EPOCHS)):\n",
    "    train_acc, train_loss = train_one_epoch(train_dataset, e)\n",
    "    validation_acc, validation_loss = validate_one_epoch(validation_dataset, e)\n",
    "    # print(validation_loss)\n",
    "    PATH  = f'{model_checkpoint_path}/model_GConvGRU_{epoch}_static_graph.pt'\n",
    "    torch.save({\n",
    "            'epoch': epoch,\n",
    "            'model_state_dict': model.state_dict(),\n",
    "            'optimizer_state_dict': optimizer.state_dict(),\n",
    "            'train_loss': train_loss,\n",
    "            'validation_loss': validation_loss,\n",
    "            }, PATH)\n",
    "    \n",
    "    print(f'Epoch: {epoch:03d}, Train Acc: {train_acc:.4f}, Train Loss: {train_loss:.4f}, Val Acc: {validation_acc:.4f}, Val Loss: {validation_loss:.4f}')\n",
    "\n",
    "    history['epoch'].append(epoch+1)\n",
    "    history['train_acc'].append(train_acc)\n",
    "    history['validation_acc'].append(validation_acc)\n",
    "    history['train_loss'].append(float(train_loss.data))\n",
    "    history['validation_loss'].append(float(validation_loss.data))\n",
    "    \n",
    "    if early_stopper.early_stop(validation_loss):     \n",
    "        print(f\"Stopping early! {validation_loss}, {epoch}\")      \n",
    "        break\n"
   ]
  },
  {
   "cell_type": "code",
   "execution_count": null,
   "metadata": {},
   "outputs": [],
   "source": [
    "# Experiment_results_saving path\n",
    "\n",
    "experiment_results_path = './exp_results/'\n",
    "pathlib.Path(experiment_results_path).mkdir(parents=True, exist_ok=True)"
   ]
  },
  {
   "cell_type": "code",
   "execution_count": null,
   "metadata": {},
   "outputs": [
    {
     "data": {
      "text/plain": [
       "<All keys matched successfully>"
      ]
     },
     "execution_count": 110,
     "metadata": {},
     "output_type": "execute_result"
    }
   ],
   "source": [
    "# best_epoch = epoch - patience\n",
    "def find_min_val(val_list):\n",
    "    res = 0\n",
    "    cur_min = val_list[0]\n",
    "    for i in range(1,len(val_list)):\n",
    "        if val_list[i] <= cur_min:\n",
    "            res = i\n",
    "            cur_min = val_list[i]\n",
    "    return res\n",
    "\n",
    "best_iteration = find_min_val(history['validation_loss'])\n",
    "best_epoch = history['epoch'][best_iteration]-1\n",
    "\n"
   ]
  },
  {
   "cell_type": "code",
   "execution_count": null,
   "metadata": {},
   "outputs": [
    {
     "data": {
      "text/plain": [
       "<All keys matched successfully>"
      ]
     },
     "execution_count": 33,
     "metadata": {},
     "output_type": "execute_result"
    }
   ],
   "source": [
    "# tmodel = torch.load(f'/home/sgupta/WORK/Stoplevel_day_ahead_prediction/GNN_new_graph_stoplevel/model_checkpoint/GConvGRU/model_GConvGRU_{best_epoch}_static_graph.pt')\n",
    "\n",
    "model2 = model\n",
    "# model2.load_state_dict(tmodel['model_state_dict'])"
   ]
  },
  {
   "cell_type": "code",
   "execution_count": null,
   "metadata": {},
   "outputs": [],
   "source": [
    "lr = lr\n",
    "EPOCHS = best_epoch\n",
    "patience = patience\n",
    "loss = 'focal_loss'\n",
    "node_features_used = no_of_node_features\n",
    "edge_features_used = 1"
   ]
  },
  {
   "cell_type": "code",
   "execution_count": null,
   "metadata": {},
   "outputs": [],
   "source": [
    "curr_experiment_path = f'{experiment_results_path}/GConvGRU_1_hr_time_window/lr_{lr}_epochs_{EPOCHS}_patience_{patience}_loss_{loss}_no_node_f_{node_features_used}_no_edge_f_{edge_features_used}_static_graph'\n",
    "pathlib.Path(curr_experiment_path).mkdir(parents=True, exist_ok=True) "
   ]
  },
  {
   "cell_type": "code",
   "execution_count": null,
   "metadata": {},
   "outputs": [],
   "source": [
    "\n",
    "def test(loader):\n",
    "    model.eval()\n",
    "\n",
    "    correct=0\n",
    "    count=0\n",
    "    y_true = []\n",
    "    y_pred = []\n",
    "\n",
    "    h = None\n",
    "    for time, snapshot in enumerate(loader):\n",
    "        snapshot.to(device)\n",
    "        # x = snapshot.x.view(1, no_of_nodes,no_of_node_features)\n",
    "        y_hat = model2(snapshot.x, snapshot.edge_index, snapshot.edge_attr)\n",
    "        \n",
    "        # Assuming snapshot.y is of shape [20] and has values in the range [0, 4]\n",
    "        # snapshot_y_one_hot = F.one_hot(snapshot.y, num_classes=num_classes).unsqueeze(0)\n",
    "\n",
    "        pred = y_hat.argmax(dim=1)  # Use the class with highest probability.\n",
    "        y_true.append(snapshot.y)\n",
    "        y_pred.append(pred)\n",
    "\n",
    "        yp = np.array(pred.cpu()).flatten()\n",
    "        yt = np.array(snapshot.y.cpu()).flatten()\n",
    "        correct += int((yp == yt).sum()) \n",
    "        count += len(yt)\n",
    "\n",
    "    return (correct/count), y_true, y_pred\n",
    "\n",
    "\n",
    "test_acc,  y_true, y_pred = test(test_dataset)"
   ]
  },
  {
   "cell_type": "code",
   "execution_count": null,
   "metadata": {},
   "outputs": [],
   "source": [
    "yt = np.concatenate([tensor.flatten().cpu() for tensor in y_true])\n",
    "yp = np.concatenate([tensor.flatten().cpu() for tensor in y_pred])\n",
    "\n",
    "temp = pd.DataFrame(columns=['ytrue','ypred'])\n",
    "temp.ytrue = yt\n",
    "temp.ypred = yp"
   ]
  },
  {
   "cell_type": "code",
   "execution_count": null,
   "metadata": {},
   "outputs": [],
   "source": [
    "\n",
    "\n",
    "\n",
    "def get_CM(y_true,y_pred,title,comment,path):\n",
    "    test_acc = (y_pred == y_true).sum()/len(y_true)\n",
    "\n",
    "    print(f\"Accuracy {comment}:\",test_acc)\n",
    "\n",
    "    cm = confusion_matrix(y_true, y_pred)\n",
    "    disp = ConfusionMatrixDisplay(confusion_matrix=cm)\n",
    "    # Plot the confusion matrix\n",
    "    fig, ax = plt.subplots(figsize=(8, 6))\n",
    "    _ = disp.plot(ax=ax)\n",
    "    # Add a title to the plot\n",
    "    ax.set_title(title + \" - Real Count\")\n",
    "    plt.savefig(f'{path}/CM_real_55_{comment}.jpg')\n",
    "    # plt.show()\n",
    "\n",
    "    # Getting the percentage CM\n",
    "    cm = ((cm * 100) / (cm.sum(axis=1)[:, np.newaxis]))\n",
    "    disp = ConfusionMatrixDisplay(confusion_matrix=cm)\n",
    "    # Plot the confusion matrix\n",
    "    fig, ax = plt.subplots(figsize=(8, 6))\n",
    "    _ = disp.plot(ax=ax)\n",
    "    # Add a title to the plot\n",
    "    ax.set_title(title + \" - Percentages\")\n",
    "    plt.savefig(f'{path}/CM_percentage_55{comment}.jpg')\n",
    "    # plt.show()\n",
    "\n",
    "    return test_acc"
   ]
  },
  {
   "cell_type": "code",
   "execution_count": null,
   "metadata": {},
   "outputs": [
    {
     "name": "stdout",
     "output_type": "stream",
     "text": [
      "Accuracy with 4th bin: 0.8738031967006152\n"
     ]
    },
    {
     "data": {
      "image/png": "[encoded data removed]",
      "text/plain": [
       "<Figure size 800x600 with 2 Axes>"
      ]
     },
     "metadata": {},
     "output_type": "display_data"
    },
    {
     "data": {
      "image/png": "[encoded data removed]",
      "text/plain": [
       "<Figure size 800x600 with 2 Axes>"
      ]
     },
     "metadata": {},
     "output_type": "display_data"
    }
   ],
   "source": [
    "test_acc_w_4th = get_CM(temp.ytrue,temp.ypred,'ROUTE 55 ','with 4th bin',curr_experiment_path)\n",
    "history['test_acc_with_4th_bin'] = test_acc_w_4th\n"
   ]
  },
  {
   "cell_type": "code",
   "execution_count": null,
   "metadata": {},
   "outputs": [
    {
     "name": "stdout",
     "output_type": "stream",
     "text": [
      "Accuracy without 4th bin: 0.27095077580514476\n"
     ]
    },
    {
     "data": {
      "image/png": "[encoded data removed]",
      "text/plain": [
       "<Figure size 800x600 with 2 Axes>"
      ]
     },
     "metadata": {},
     "output_type": "display_data"
    },
    {
     "name": "stderr",
     "output_type": "stream",
     "text": [
      "/tmp/ipykernel_3699319/3896929935.py:17: RuntimeWarning: invalid value encountered in divide\n",
      "  cm = ((cm * 100) / (cm.sum(axis=1)[:, np.newaxis]))\n"
     ]
    },
    {
     "data": {
      "image/png": "[encoded data removed]",
      "text/plain": [
       "<Figure size 800x600 with 2 Axes>"
      ]
     },
     "metadata": {},
     "output_type": "display_data"
    }
   ],
   "source": [
    "temp2 = temp\n",
    "temp2 = temp2[temp2.ytrue != 4]\n",
    "temp2.reset_index(drop=True,inplace=True)\n",
    "test_acc_w_o_4th = get_CM(temp2.ytrue,temp2.ypred,'ROUTE 55 no 4th bin','without 4th bin',curr_experiment_path)\n",
    "history['test_acc_without_4th_bin'] = test_acc_w_o_4th"
   ]
  },
  {
   "cell_type": "code",
   "execution_count": null,
   "metadata": {},
   "outputs": [
    {
     "name": "stdout",
     "output_type": "stream",
     "text": [
      "Custom Accuracy Metric: 0.7361086040679538\n"
     ]
    }
   ],
   "source": [
    "def accuracy_metric(y_true,y_pred):\n",
    "        a = []\n",
    "        \n",
    "        for i in range(len(y_true)):\n",
    "            yt = y_true[i]\n",
    "            yp = y_pred[i]\n",
    "\n",
    "            temp = 1 - (np.abs(yt-yp)/num_classes)\n",
    "            a.append(temp)\n",
    "        # print(a)\n",
    "        accuracy = sum(a)/len(y_true)\n",
    "\n",
    "        return accuracy\n",
    "\n",
    "custom_accuracy = accuracy_metric(temp2.ytrue,temp2.ypred)\n",
    "print('Custom Accuracy Metric:',custom_accuracy)\n",
    "history['custom_accuracy'] = custom_accuracy"
   ]
  },
  {
   "cell_type": "code",
   "execution_count": null,
   "metadata": {},
   "outputs": [
    {
     "data": {
      "text/plain": [
       "{'epoch': [1, 2],\n",
       " 'train_acc': [0.014857068494339131, 0.06876295092579307],\n",
       " 'validation_acc': [0.06849488412451643, 0.2761488123214867],\n",
       " 'train_loss': [5.253599166870117, 5.379883289337158],\n",
       " 'validation_loss': [5.525747776031494, 5.440337657928467],\n",
       " 'test_acc_with_4th_bin': 0.8738031967006152,\n",
       " 'test_acc_without_4th_bin': 0.27095077580514476,\n",
       " 'custom_accuracy': 0.7361086040679538}"
      ]
     },
     "execution_count": 32,
     "metadata": {},
     "output_type": "execute_result"
    }
   ],
   "source": [
    "print(history)"
   ]
  },
  {
   "cell_type": "code",
   "execution_count": null,
   "metadata": {},
   "outputs": [],
   "source": [
    "from sklearn.metrics import precision_recall_fscore_support\n",
    "precision, recall, f1_score, support = precision_recall_fscore_support(temp.ytrue,temp.ypred, average='weighted')"
   ]
  },
  {
   "cell_type": "code",
   "execution_count": null,
   "metadata": {},
   "outputs": [],
   "source": [
    "history_df = pd.DataFrame(history)\n",
    "history_df.to_csv(f'{curr_experiment_path}/history_w_results.csv')"
   ]
  },
  {
   "cell_type": "code",
   "execution_count": null,
   "metadata": {},
   "outputs": [],
   "source": [
    "# Open a file in write mode ('w' or 'a' for append)\n",
    "with open('./results/sn_de_1_hr/static_node_dynamic_edge_1_hr_output.txt', 'w') as file:\n",
    "    # Write data to the file\n",
    "    file.write(f\"The precision, recall and f1-score are: {precision}, {recall} and {f1_score}\")\n",
    "    file.write(f'Custom Accuracy Metric: {custom_accuracy}')"
   ]
  },
  {
   "cell_type": "code",
   "execution_count": null,
   "metadata": {},
   "outputs": [],
   "source": [
    "temp.to_csv('./results/sn_de_1_hr/static_node_dynamic_edge_1_hr_preds.csv')"
   ]
  }
 ],
 "metadata": {
  "kernelspec": {
   "display_name": "pytorchenv",
   "language": "python",
   "name": "python3"
  },
  "language_info": {
   "codemirror_mode": {
    "name": "ipython",
    "version": 3
   },
   "file_extension": ".py",
   "mimetype": "text/x-python",
   "name": "python",
   "nbconvert_exporter": "python",
   "pygments_lexer": "ipython3",
   "version": "3.9.18"
  },
  "orig_nbformat": 4
 },
 "nbformat": 4,
 "nbformat_minor": 2
}
