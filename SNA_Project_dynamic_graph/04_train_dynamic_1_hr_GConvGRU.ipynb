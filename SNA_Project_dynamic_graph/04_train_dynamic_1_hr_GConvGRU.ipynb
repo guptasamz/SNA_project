{
 "cells": [
  {
   "cell_type": "code",
   "execution_count": 2,
   "metadata": {},
   "outputs": [],
   "source": [
    "# Imports\n",
    "try:\n",
    "    from tqdm import tqdm\n",
    "except ImportError:\n",
    "    def tqdm(iterable):\n",
    "        return iterable\n",
    "\n",
    "import torch\n",
    "import torch.nn.functional as F\n",
    "from torch_geometric_temporal.nn.recurrent import AGCRN,DCRNN,GConvGRU\n",
    "\n",
    "from torch_geometric_temporal.dataset import ChickenpoxDatasetLoader\n",
    "from torch_geometric_temporal.signal import temporal_signal_split\n",
    "from torch_geometric_temporal.signal.static_graph_temporal_signal import StaticGraphTemporalSignal\n",
    "import torch.nn.functional as F\n",
    "from pathlib import Path\n",
    "import pathlib\n",
    "import numpy as np\n",
    "import torch\n",
    "import numpy as np\n",
    "from typing import Sequence, Union\n",
    "from torch_geometric.data import Data\n",
    "from sklearn.model_selection import train_test_split\n",
    "import torch.nn as nn\n",
    "import torch.nn.functional as F\n",
    "from sklearn.metrics import confusion_matrix, ConfusionMatrixDisplay\n",
    "import matplotlib.pyplot as plt\n",
    "import pandas as pd\n",
    "from torch_geometric_temporal.nn.recurrent import AGCRN\n"
   ]
  },
  {
   "cell_type": "code",
   "execution_count": 3,
   "metadata": {},
   "outputs": [
    {
     "name": "stdout",
     "output_type": "stream",
     "text": [
      "True\n",
      "Device is: cuda\n"
     ]
    }
   ],
   "source": [
    "print(torch.cuda.is_available())\n",
    "device = torch.device('cuda' if torch.cuda.is_available() else 'cpu')\n",
    "device = 'cuda'\n",
    "print(\"Device is:\",device)"
   ]
  },
  {
   "cell_type": "code",
   "execution_count": 4,
   "metadata": {},
   "outputs": [],
   "source": [
    "\n",
    "\n",
    "Edge_Indices = Sequence[Union[np.ndarray, None]]\n",
    "Edge_Weights = Sequence[Union[np.ndarray, None]]\n",
    "Node_Features = Sequence[Union[np.ndarray, None]]\n",
    "Targets = Sequence[Union[np.ndarray, None]]\n",
    "Additional_Features = Sequence[np.ndarray]\n",
    "\n",
    "\n",
    "class DynamicGraphTemporalSignal_custom(object):\n",
    "    r\"\"\"A data iterator object to contain a dynamic graph with a\n",
    "    changing edge set and weights . The feature set and node labels\n",
    "    (target) are also dynamic. The iterator returns a single discrete temporal\n",
    "    snapshot for a time period (e.g. day or week). This single snapshot is a\n",
    "    Pytorch Geometric Data object. Between two temporal snapshots the edges,\n",
    "    edge weights, target matrices and optionally passed attributes might change.\n",
    "\n",
    "    Args:\n",
    "        edge_indices (Sequence of Numpy arrays): Sequence of edge index tensors.\n",
    "        edge_weights (Sequence of Numpy arrays): Sequence of edge weight tensors.\n",
    "        features (Sequence of Numpy arrays): Sequence of node feature tensors.\n",
    "        targets (Sequence of Numpy arrays): Sequence of node label (target) tensors.\n",
    "        **kwargs (optional Sequence of Numpy arrays): Sequence of additional attributes.\n",
    "    \"\"\"\n",
    "\n",
    "    def __init__(\n",
    "        self,\n",
    "        edge_indices: Edge_Indices,\n",
    "        edge_weights: Edge_Weights,\n",
    "        features: Node_Features,\n",
    "        targets: Targets,\n",
    "        **kwargs: Additional_Features\n",
    "    ):\n",
    "        self.edge_indices = edge_indices\n",
    "        self.edge_weights = edge_weights\n",
    "        self.features = features\n",
    "        self.targets = targets\n",
    "        self.additional_feature_keys = []\n",
    "        for key, value in kwargs.items():\n",
    "            setattr(self, key, value)\n",
    "            self.additional_feature_keys.append(key)\n",
    "        self._check_temporal_consistency()\n",
    "        self._set_snapshot_count()\n",
    "\n",
    "    def _check_temporal_consistency(self):\n",
    "        assert len(self.features) == len(\n",
    "            self.targets\n",
    "        ), \"Temporal dimension inconsistency.\"\n",
    "        assert len(self.edge_indices) == len(\n",
    "            self.edge_weights\n",
    "        ), \"Temporal dimension inconsistency.\"\n",
    "        assert len(self.features) == len(\n",
    "            self.edge_weights\n",
    "        ), \"Temporal dimension inconsistency.\"\n",
    "        for key in self.additional_feature_keys:\n",
    "            assert len(self.targets) == len(\n",
    "                getattr(self, key)\n",
    "            ), \"Temporal dimension inconsistency.\"\n",
    "\n",
    "    def _set_snapshot_count(self):\n",
    "        self.snapshot_count = len(self.features)\n",
    "\n",
    "    def _get_edge_index(self, time_index: int):\n",
    "        if self.edge_indices[time_index] is None:\n",
    "            return self.edge_indices[time_index]\n",
    "        else:\n",
    "            return torch.LongTensor(self.edge_indices[time_index])\n",
    "\n",
    "    def _get_edge_weight(self, time_index: int):\n",
    "        if self.edge_weights[time_index] is None:\n",
    "            return self.edge_weights[time_index]\n",
    "        else:\n",
    "            return torch.FloatTensor(self.edge_weights[time_index])\n",
    "\n",
    "    def _get_features(self, time_index: int):\n",
    "        if self.features[time_index] is None:\n",
    "            return self.features[time_index]\n",
    "        else:\n",
    "            return torch.FloatTensor(self.features[time_index])\n",
    "\n",
    "    def _get_target(self, time_index: int):\n",
    "        if self.targets[time_index] is None:\n",
    "            return self.targets[time_index]\n",
    "        else:\n",
    "            return torch.LongTensor(self.targets[time_index])\n",
    "            # if self.targets[time_index].dtype.kind == \"i\":\n",
    "            #     return torch.LongTensor(self.targets[time_index])\n",
    "            # elif self.targets[time_index].dtype.kind == \"f\":\n",
    "            #     return torch.FloatTensor(self.targets[time_index])\n",
    "\n",
    "    def _get_additional_feature(self, time_index: int, feature_key: str):\n",
    "        feature = getattr(self, feature_key)[time_index]\n",
    "        if feature.dtype.kind == \"i\":\n",
    "            return torch.LongTensor(feature)\n",
    "        elif feature.dtype.kind == \"f\":\n",
    "            return torch.FloatTensor(feature)\n",
    "\n",
    "    def _get_additional_features(self, time_index: int):\n",
    "        additional_features = {\n",
    "            key: self._get_additional_feature(time_index, key)\n",
    "            for key in self.additional_feature_keys\n",
    "        }\n",
    "        return additional_features\n",
    "\n",
    "    def __getitem__(self, time_index: Union[int, slice]):\n",
    "        if isinstance(time_index, slice):\n",
    "            snapshot = DynamicGraphTemporalSignal(\n",
    "                self.edge_indices[time_index],\n",
    "                self.edge_weights[time_index],\n",
    "                self.features[time_index],\n",
    "                self.targets[time_index],\n",
    "                **{key: getattr(self, key)[time_index] for key in self.additional_feature_keys}\n",
    "            )\n",
    "        else:\n",
    "            x = self._get_features(time_index)\n",
    "            edge_index = self._get_edge_index(time_index)\n",
    "            edge_weight = self._get_edge_weight(time_index)\n",
    "            y = self._get_target(time_index)\n",
    "            additional_features = self._get_additional_features(time_index)\n",
    "\n",
    "            snapshot = Data(x=x, edge_index=edge_index, edge_attr=edge_weight,\n",
    "                            y=y, **additional_features)\n",
    "        return snapshot\n",
    "\n",
    "    def __next__(self):\n",
    "        if self.t < len(self.features):\n",
    "            snapshot = self[self.t]\n",
    "            self.t = self.t + 1\n",
    "            return snapshot\n",
    "        else:\n",
    "            self.t = 0\n",
    "            raise StopIteration\n",
    "\n",
    "    def __iter__(self):\n",
    "        self.t = 0\n",
    "        return self"
   ]
  },
  {
   "cell_type": "code",
   "execution_count": 5,
   "metadata": {},
   "outputs": [],
   "source": [
    "traffic_dataset = torch.load('../SNA_create_graph/data/graph_data/1_hr_time_window_dynamic_graph/dataset_all_route_dynamic_graph_10_features.pt')\n",
    "# traffic_dataset = torch.load('./data/graph_data/1_hr_time_window_dynamic_graph/dataset_all_route_dynamic_graph.pt')\n",
    "\n"
   ]
  },
  {
   "cell_type": "code",
   "execution_count": 6,
   "metadata": {},
   "outputs": [],
   "source": [
    "# Removing graphs that just have zero bin in the graph to reduce sparsity\n",
    "cleaned_traffic_dataset = []\n",
    "\n",
    "for dataset in traffic_dataset:\n",
    "    y_list = np.array(dataset.y)\n",
    "    non_zero = np.count_nonzero(y_list)\n",
    "    if(non_zero == 0):\n",
    "        continue\n",
    "    else:\n",
    "        cleaned_traffic_dataset.append(dataset)\n",
    "\n",
    "traffic_dataset = cleaned_traffic_dataset"
   ]
  },
  {
   "cell_type": "code",
   "execution_count": 7,
   "metadata": {},
   "outputs": [
    {
     "data": {
      "text/plain": [
       "12928"
      ]
     },
     "execution_count": 7,
     "metadata": {},
     "output_type": "execute_result"
    }
   ],
   "source": [
    "len(cleaned_traffic_dataset)"
   ]
  },
  {
   "cell_type": "code",
   "execution_count": 8,
   "metadata": {},
   "outputs": [],
   "source": [
    "class myNewOwnLoader(object):\n",
    "    \"\"\"A dataset of county level chicken pox cases in Hungary between 2004\n",
    "    and 2014. We made it public during the development of PyTorch Geometric\n",
    "    Temporal. The underlying graph is static - vertices are counties and\n",
    "    edges are neighbourhoods. Vertex features are lagged weekly counts of the\n",
    "    chickenpox cases (we included 4 lags). The target is the weekly number of\n",
    "    cases for the upcoming week (signed integers). Our dataset consist of more\n",
    "    than 500 snapshots (weeks).\n",
    "    \"\"\"\n",
    "\n",
    "    def __init__(self, dataset):\n",
    "        # self._read_web_data()\n",
    "        self._get_dataset(dataset)\n",
    "\n",
    "    def _get_dataset(self,dataset):\n",
    "        self._dataset = dataset\n",
    "\n",
    "    def _get_edges(self):\n",
    "        # self._edges = np.array(self._dataset[\"edges\"]).T\n",
    "        # ei = []\n",
    "        # for data in self._dataset:\n",
    "        #     ei.append(data.edge_index)\n",
    "        e = []\n",
    "        for data in self._dataset:\n",
    "            e.append(data.edge_index)\n",
    "\n",
    "        self._edges = e\n",
    "\n",
    "\n",
    "    def _get_edge_weights(self):\n",
    "        # self._edge_weights = np.ones(self._edges.shape[1])\n",
    "        # ew = []\n",
    "        # for data in self._dataset:\n",
    "        #     ew.append(data.edge_attr)\n",
    "        ew = []\n",
    "        for data in self._dataset:\n",
    "            ew.append(data.edge_attr[:, 0])\n",
    "\n",
    "        self._edge_weights = ew\n",
    "\n",
    "        # self._edge_weights = np.array(self._dataset[0].edge_attr)\n",
    "        # self._edge_weights = self._dataset.edge_attr\n",
    "\n",
    "    def _get_targets(self):\n",
    "\n",
    "        y_class = []\n",
    "        for data in self._dataset:\n",
    "            y_class.append(data.y)\n",
    "\n",
    "        self.targets = y_class\n",
    "        # self.targets = self._dataset.y\n",
    "\n",
    "    def _get_features(self):\n",
    "        f = []\n",
    "        for data in self._dataset:\n",
    "            f.append(data.x)\n",
    "\n",
    "        self.features = f\n",
    "        # self.features = self._dataset.x\n",
    "\n",
    "    def get_dataset(self, lags: int = 8) -> DynamicGraphTemporalSignal_custom:\n",
    "        \"\"\"Returning the Chickenpox Hungary data iterator.\n",
    "\n",
    "        Args types:\n",
    "            * **lags** *(int)* - The number of time lags.\n",
    "        Return types:\n",
    "            * **dataset** *(StaticGraphTemporalSignal)* - The Chickenpox Hungary dataset.\n",
    "        \"\"\"\n",
    "        self.lags = lags\n",
    "        self._get_edges()\n",
    "        self._get_edge_weights()\n",
    "        self._get_targets()\n",
    "        self._get_features()\n",
    "        # self._get_targets_and_features()\n",
    "        # self.\n",
    "\n",
    "        dataset = DynamicGraphTemporalSignal_custom(\n",
    "            self._edges, self._edge_weights, self.features, self.targets\n",
    "        )\n",
    "        return dataset"
   ]
  },
  {
   "cell_type": "code",
   "execution_count": 9,
   "metadata": {},
   "outputs": [],
   "source": [
    "train_dataset, test_dataset =  train_test_split(traffic_dataset, test_size =.20, shuffle  = True,random_state=42)\n",
    "train_dataset, validation_dataset =  train_test_split(train_dataset, test_size =.12, shuffle  = True,random_state=42)\n"
   ]
  },
  {
   "cell_type": "code",
   "execution_count": 10,
   "metadata": {},
   "outputs": [],
   "source": [
    "newloader_train = myNewOwnLoader(train_dataset)\n",
    "train_dataset = newloader_train.get_dataset(lags=8)\n",
    "\n",
    "newloader_val = myNewOwnLoader(validation_dataset)\n",
    "validation_dataset = newloader_val.get_dataset(lags=8)\n",
    "\n",
    "newloader_test = myNewOwnLoader(test_dataset)\n",
    "test_dataset = newloader_test.get_dataset(lags=8)"
   ]
  },
  {
   "cell_type": "code",
   "execution_count": 11,
   "metadata": {},
   "outputs": [
    {
     "data": {
      "text/plain": [
       "(Data(x=[183, 10], edge_index=[2, 182], edge_attr=[182], y=[183]),\n",
       " Data(x=[303, 10], edge_index=[2, 299], edge_attr=[299], y=[303]),\n",
       " Data(x=[126, 10], edge_index=[2, 128], edge_attr=[128], y=[126]))"
      ]
     },
     "execution_count": 11,
     "metadata": {},
     "output_type": "execute_result"
    }
   ],
   "source": [
    "train_dataset[0], validation_dataset[0], test_dataset[0]"
   ]
  },
  {
   "cell_type": "code",
   "execution_count": 12,
   "metadata": {},
   "outputs": [],
   "source": [
    "y_train = []\n",
    "\n",
    "for dataset in train_dataset:\n",
    "    y_train += list(np.array(dataset.y))\n",
    "    # y_train.append(np.array(dataset.y))\n",
    "\n"
   ]
  },
  {
   "cell_type": "code",
   "execution_count": 13,
   "metadata": {},
   "outputs": [],
   "source": [
    "y_train = np.array(y_train)\n",
    "\n",
    "class_counts = np.bincount(y_train)\n",
    "num_classes = 4\n",
    "total_samples = len(y_train)\n",
    "\n",
    "class_weights = []\n",
    "for count in class_counts:\n",
    "    weight = 1 / (count / total_samples)\n",
    "    class_weights.append(weight)"
   ]
  },
  {
   "cell_type": "code",
   "execution_count": 14,
   "metadata": {},
   "outputs": [
    {
     "data": {
      "text/plain": [
       "(array([869521, 490037,  68631,  19660]),\n",
       " [1.6651110208954125, 2.954570777308652, 21.09613731404176, 73.64440488301119])"
      ]
     },
     "execution_count": 14,
     "metadata": {},
     "output_type": "execute_result"
    }
   ],
   "source": [
    "class_counts, class_weights\n",
    "\n",
    "# array([158929,  86989,  21581,   8111])"
   ]
  },
  {
   "cell_type": "code",
   "execution_count": 18,
   "metadata": {},
   "outputs": [],
   "source": [
    "\n",
    "def train_one_epoch(train_loader, e):\n",
    "    model.train()\n",
    "\n",
    "    # Initial parameters\n",
    "    cost = 0\n",
    "    h = None\n",
    "    count = 0 \n",
    "    correct = 0\n",
    "    for time, snapshot in enumerate(train_loader):\n",
    "        snapshot.to(device)\n",
    "        # x = snapshot.x.view(1, no_of_nodes, no_of_node_features)\n",
    "        # y_hat, h = model(x, e, h)\n",
    "        y_hat = model(snapshot.x, snapshot.edge_index, snapshot.edge_attr)\n",
    "\n",
    "        # Getting the focal loss\n",
    "        cost = cost + focal_loss(y_hat.squeeze(), snapshot.y.long())\n",
    "        pred = y_hat.argmax(dim=1)  # Use the class with highest probability.\n",
    "        yp = np.array(pred.cpu()).flatten()\n",
    "        yt = np.array(snapshot.y.cpu()).flatten()\n",
    "        correct += int((yp == yt).sum()) \n",
    "        count += len(yt)\n",
    "    cost = cost / (time+1) #Getting the mean loss\n",
    "    cost.backward()\n",
    "    optimizer.step()\n",
    "    optimizer.zero_grad()\n",
    "    \n",
    "    accuracy = correct / count\n",
    "\n",
    "    return accuracy, cost\n",
    "\n",
    "def validate_one_epoch(validation_loader, e):\n",
    "    model.eval()\n",
    "\n",
    "    # Initial parameters\n",
    "    cost = 0\n",
    "    h = None\n",
    "    count = 0 \n",
    "    correct = 0\n",
    "    for time, snapshot in enumerate(validation_loader):\n",
    "        snapshot.to(device)\n",
    "        # x = snapshot.x.view(1, no_of_nodes, no_of_node_features)\n",
    "        # y_hat, h = model(x, e, h)\n",
    "        y_hat = model(snapshot.x, snapshot.edge_index, snapshot.edge_attr)\n",
    "\n",
    "        # Getting the focal loss\n",
    "        cost = cost + focal_loss(y_hat.squeeze(), snapshot.y.long())\n",
    "        pred = y_hat.argmax(dim=1)  # Use the class with highest probability.\n",
    "        yp = np.array(pred.cpu()).flatten()\n",
    "        yt = np.array(snapshot.y.cpu()).flatten()\n",
    "        correct += int((yp == yt).sum()) \n",
    "        count += len(yt)\n",
    "    cost = cost / (time+1) #Getting the mean loss\n",
    "    \n",
    "    accuracy = correct / count\n",
    "    return accuracy, cost\n"
   ]
  },
  {
   "cell_type": "code",
   "execution_count": 19,
   "metadata": {},
   "outputs": [],
   "source": [
    "\n",
    "\n",
    "class FocalLoss(nn.Module):\n",
    "    def __init__(self, alpha=None, gamma=2):\n",
    "        super(FocalLoss, self).__init__()\n",
    "        self.alpha = alpha\n",
    "        self.gamma = gamma\n",
    "\n",
    "    def forward(self, inputs, targets):\n",
    "        ce_loss = F.cross_entropy(inputs, targets, reduction='none')\n",
    "        pt = torch.exp(-ce_loss)\n",
    "        loss = (self.alpha[targets] * (1 - pt) ** self.gamma * ce_loss).mean()\n",
    "        return loss\n",
    "    \n",
    "class EarlyStopper:\n",
    "    def __init__(self, patience=1, min_delta=0):\n",
    "        self.patience = patience\n",
    "        self.min_delta = min_delta\n",
    "        self.counter = 0\n",
    "        self.min_validation_loss = np.inf\n",
    "\n",
    "    def early_stop(self, validation_loss):\n",
    "\n",
    "        if validation_loss < self.min_validation_loss:\n",
    "            self.min_validation_loss = validation_loss\n",
    "            self.counter = 0\n",
    "        elif validation_loss > (self.min_validation_loss + self.min_delta):\n",
    "            self.counter += 1\n",
    "            if self.counter >= self.patience:\n",
    "                return True\n",
    "        return False"
   ]
  },
  {
   "cell_type": "code",
   "execution_count": 20,
   "metadata": {},
   "outputs": [],
   "source": [
    "# Data(x=[45, 10], edge_index=[2, 94], edge_attr=[94, 7], y=[45])"
   ]
  },
  {
   "cell_type": "code",
   "execution_count": 21,
   "metadata": {},
   "outputs": [],
   "source": [
    "# no_of_nodes = 45\n",
    "no_of_node_features = 10\n",
    "num_classes = 4\n",
    "lr = 0.01 \n",
    "\n",
    "EPOCHS = 500\n",
    "patience = 70\n",
    "early_stopper = EarlyStopper(patience=patience, min_delta=0)\n",
    "\n",
    "class RecurrentGCN(torch.nn.Module):\n",
    "    def __init__(self, node_features, num_classes):\n",
    "        super(RecurrentGCN, self).__init__()\n",
    "        self.recurrent = GConvGRU(in_channels = node_features,\n",
    "                              out_channels = node_features,K=3)\n",
    "        # Future work add some MLP layers, increase out channels - to 64.in the future\n",
    "        self.linear1 = torch.nn.Linear(node_features, 32)\n",
    "        self.linear2 = torch.nn.Linear(32, 16)\n",
    "        self.linear = torch.nn.Linear(16, num_classes)\n",
    "\n",
    "    def forward(self, x, edge_index, edge_weight):\n",
    "        h = self.recurrent(x, edge_index, edge_weight)\n",
    "        h = F.relu(h)\n",
    "\n",
    "        h = F.relu(self.linear1(h))\n",
    "        h = F.relu(self.linear2(h))\n",
    "        h = self.linear(h)\n",
    "        h = F.log_softmax(h,dim=-1)\n",
    "        return h\n",
    "        \n",
    "model = RecurrentGCN(node_features = no_of_node_features, num_classes=num_classes)\n",
    "model = model.to(device)\n",
    "optimizer = torch.optim.Adam(model.parameters(), lr=lr)\n"
   ]
  },
  {
   "cell_type": "code",
   "execution_count": 22,
   "metadata": {},
   "outputs": [
    {
     "name": "stderr",
     "output_type": "stream",
     "text": [
      "Using cache found in /home/sgupta/.cache/torch/hub/adeelh_pytorch-multi-class-focal-loss_master\n"
     ]
    }
   ],
   "source": [
    "class_weights = torch.FloatTensor(class_weights).to(device)\n",
    "focal_loss = torch.hub.load(\n",
    "\t'adeelh/pytorch-multi-class-focal-loss',\n",
    "\tmodel='FocalLoss',\n",
    "\talpha=class_weights,\n",
    "\tgamma=2,\n",
    "\treduction='mean',\n",
    "\tforce_reload=False\n",
    ").to(device)"
   ]
  },
  {
   "cell_type": "code",
   "execution_count": 23,
   "metadata": {},
   "outputs": [
    {
     "name": "stderr",
     "output_type": "stream",
     "text": [
      "  0%|          | 0/500 [00:04<?, ?it/s]\n"
     ]
    },
    {
     "ename": "KeyboardInterrupt",
     "evalue": "",
     "output_type": "error",
     "traceback": [
      "\u001b[0;31m---------------------------------------------------------------------------\u001b[0m",
      "\u001b[0;31mKeyboardInterrupt\u001b[0m                         Traceback (most recent call last)",
      "\u001b[1;32m/home/sgupta/WORK/Stoplevel_day_ahead_prediction/SNA_Project_dynamic_graph/04_train_dynamic_1_hr_GConvGRU.ipynb Cell 19\u001b[0m line \u001b[0;36m1\n\u001b[1;32m      <a href='vscode-notebook-cell://ssh-remote%2Bdigital-storm-3/home/sgupta/WORK/Stoplevel_day_ahead_prediction/SNA_Project_dynamic_graph/04_train_dynamic_1_hr_GConvGRU.ipynb#X24sdnNjb2RlLXJlbW90ZQ%3D%3D?line=7'>8</a>\u001b[0m history \u001b[39m=\u001b[39m {\n\u001b[1;32m      <a href='vscode-notebook-cell://ssh-remote%2Bdigital-storm-3/home/sgupta/WORK/Stoplevel_day_ahead_prediction/SNA_Project_dynamic_graph/04_train_dynamic_1_hr_GConvGRU.ipynb#X24sdnNjb2RlLXJlbW90ZQ%3D%3D?line=8'>9</a>\u001b[0m     \u001b[39m'\u001b[39m\u001b[39mepoch\u001b[39m\u001b[39m'\u001b[39m:[],\n\u001b[1;32m     <a href='vscode-notebook-cell://ssh-remote%2Bdigital-storm-3/home/sgupta/WORK/Stoplevel_day_ahead_prediction/SNA_Project_dynamic_graph/04_train_dynamic_1_hr_GConvGRU.ipynb#X24sdnNjb2RlLXJlbW90ZQ%3D%3D?line=9'>10</a>\u001b[0m     \u001b[39m'\u001b[39m\u001b[39mtrain_acc\u001b[39m\u001b[39m'\u001b[39m:[],\n\u001b[0;32m   (...)\u001b[0m\n\u001b[1;32m     <a href='vscode-notebook-cell://ssh-remote%2Bdigital-storm-3/home/sgupta/WORK/Stoplevel_day_ahead_prediction/SNA_Project_dynamic_graph/04_train_dynamic_1_hr_GConvGRU.ipynb#X24sdnNjb2RlLXJlbW90ZQ%3D%3D?line=12'>13</a>\u001b[0m     \u001b[39m'\u001b[39m\u001b[39mvalidation_loss\u001b[39m\u001b[39m'\u001b[39m:[]\n\u001b[1;32m     <a href='vscode-notebook-cell://ssh-remote%2Bdigital-storm-3/home/sgupta/WORK/Stoplevel_day_ahead_prediction/SNA_Project_dynamic_graph/04_train_dynamic_1_hr_GConvGRU.ipynb#X24sdnNjb2RlLXJlbW90ZQ%3D%3D?line=13'>14</a>\u001b[0m }\n\u001b[1;32m     <a href='vscode-notebook-cell://ssh-remote%2Bdigital-storm-3/home/sgupta/WORK/Stoplevel_day_ahead_prediction/SNA_Project_dynamic_graph/04_train_dynamic_1_hr_GConvGRU.ipynb#X24sdnNjb2RlLXJlbW90ZQ%3D%3D?line=15'>16</a>\u001b[0m \u001b[39mfor\u001b[39;00m epoch \u001b[39min\u001b[39;00m tqdm(\u001b[39mrange\u001b[39m(EPOCHS)):\n\u001b[0;32m---> <a href='vscode-notebook-cell://ssh-remote%2Bdigital-storm-3/home/sgupta/WORK/Stoplevel_day_ahead_prediction/SNA_Project_dynamic_graph/04_train_dynamic_1_hr_GConvGRU.ipynb#X24sdnNjb2RlLXJlbW90ZQ%3D%3D?line=16'>17</a>\u001b[0m     train_acc, train_loss \u001b[39m=\u001b[39m train_one_epoch(train_dataset, e)\n\u001b[1;32m     <a href='vscode-notebook-cell://ssh-remote%2Bdigital-storm-3/home/sgupta/WORK/Stoplevel_day_ahead_prediction/SNA_Project_dynamic_graph/04_train_dynamic_1_hr_GConvGRU.ipynb#X24sdnNjb2RlLXJlbW90ZQ%3D%3D?line=17'>18</a>\u001b[0m     validation_acc, validation_loss \u001b[39m=\u001b[39m validate_one_epoch(validation_dataset, e)\n\u001b[1;32m     <a href='vscode-notebook-cell://ssh-remote%2Bdigital-storm-3/home/sgupta/WORK/Stoplevel_day_ahead_prediction/SNA_Project_dynamic_graph/04_train_dynamic_1_hr_GConvGRU.ipynb#X24sdnNjb2RlLXJlbW90ZQ%3D%3D?line=18'>19</a>\u001b[0m     \u001b[39m# print(validation_loss)\u001b[39;00m\n",
      "\u001b[1;32m/home/sgupta/WORK/Stoplevel_day_ahead_prediction/SNA_Project_dynamic_graph/04_train_dynamic_1_hr_GConvGRU.ipynb Cell 19\u001b[0m line \u001b[0;36m1\n\u001b[1;32m     <a href='vscode-notebook-cell://ssh-remote%2Bdigital-storm-3/home/sgupta/WORK/Stoplevel_day_ahead_prediction/SNA_Project_dynamic_graph/04_train_dynamic_1_hr_GConvGRU.ipynb#X24sdnNjb2RlLXJlbW90ZQ%3D%3D?line=9'>10</a>\u001b[0m snapshot\u001b[39m.\u001b[39mto(device)\n\u001b[1;32m     <a href='vscode-notebook-cell://ssh-remote%2Bdigital-storm-3/home/sgupta/WORK/Stoplevel_day_ahead_prediction/SNA_Project_dynamic_graph/04_train_dynamic_1_hr_GConvGRU.ipynb#X24sdnNjb2RlLXJlbW90ZQ%3D%3D?line=10'>11</a>\u001b[0m \u001b[39m# x = snapshot.x.view(1, no_of_nodes, no_of_node_features)\u001b[39;00m\n\u001b[1;32m     <a href='vscode-notebook-cell://ssh-remote%2Bdigital-storm-3/home/sgupta/WORK/Stoplevel_day_ahead_prediction/SNA_Project_dynamic_graph/04_train_dynamic_1_hr_GConvGRU.ipynb#X24sdnNjb2RlLXJlbW90ZQ%3D%3D?line=11'>12</a>\u001b[0m \u001b[39m# y_hat, h = model(x, e, h)\u001b[39;00m\n\u001b[0;32m---> <a href='vscode-notebook-cell://ssh-remote%2Bdigital-storm-3/home/sgupta/WORK/Stoplevel_day_ahead_prediction/SNA_Project_dynamic_graph/04_train_dynamic_1_hr_GConvGRU.ipynb#X24sdnNjb2RlLXJlbW90ZQ%3D%3D?line=12'>13</a>\u001b[0m y_hat \u001b[39m=\u001b[39m model(snapshot\u001b[39m.\u001b[39;49mx, snapshot\u001b[39m.\u001b[39;49medge_index, snapshot\u001b[39m.\u001b[39;49medge_attr)\n\u001b[1;32m     <a href='vscode-notebook-cell://ssh-remote%2Bdigital-storm-3/home/sgupta/WORK/Stoplevel_day_ahead_prediction/SNA_Project_dynamic_graph/04_train_dynamic_1_hr_GConvGRU.ipynb#X24sdnNjb2RlLXJlbW90ZQ%3D%3D?line=14'>15</a>\u001b[0m \u001b[39m# Getting the focal loss\u001b[39;00m\n\u001b[1;32m     <a href='vscode-notebook-cell://ssh-remote%2Bdigital-storm-3/home/sgupta/WORK/Stoplevel_day_ahead_prediction/SNA_Project_dynamic_graph/04_train_dynamic_1_hr_GConvGRU.ipynb#X24sdnNjb2RlLXJlbW90ZQ%3D%3D?line=15'>16</a>\u001b[0m cost \u001b[39m=\u001b[39m cost \u001b[39m+\u001b[39m focal_loss(y_hat\u001b[39m.\u001b[39msqueeze(), snapshot\u001b[39m.\u001b[39my\u001b[39m.\u001b[39mlong())\n",
      "File \u001b[0;32m~/anaconda3/envs/pytorchSAM/lib/python3.9/site-packages/torch/nn/modules/module.py:1501\u001b[0m, in \u001b[0;36mModule._call_impl\u001b[0;34m(self, *args, **kwargs)\u001b[0m\n\u001b[1;32m   1496\u001b[0m \u001b[39m# If we don't have any hooks, we want to skip the rest of the logic in\u001b[39;00m\n\u001b[1;32m   1497\u001b[0m \u001b[39m# this function, and just call forward.\u001b[39;00m\n\u001b[1;32m   1498\u001b[0m \u001b[39mif\u001b[39;00m \u001b[39mnot\u001b[39;00m (\u001b[39mself\u001b[39m\u001b[39m.\u001b[39m_backward_hooks \u001b[39mor\u001b[39;00m \u001b[39mself\u001b[39m\u001b[39m.\u001b[39m_backward_pre_hooks \u001b[39mor\u001b[39;00m \u001b[39mself\u001b[39m\u001b[39m.\u001b[39m_forward_hooks \u001b[39mor\u001b[39;00m \u001b[39mself\u001b[39m\u001b[39m.\u001b[39m_forward_pre_hooks\n\u001b[1;32m   1499\u001b[0m         \u001b[39mor\u001b[39;00m _global_backward_pre_hooks \u001b[39mor\u001b[39;00m _global_backward_hooks\n\u001b[1;32m   1500\u001b[0m         \u001b[39mor\u001b[39;00m _global_forward_hooks \u001b[39mor\u001b[39;00m _global_forward_pre_hooks):\n\u001b[0;32m-> 1501\u001b[0m     \u001b[39mreturn\u001b[39;00m forward_call(\u001b[39m*\u001b[39;49margs, \u001b[39m*\u001b[39;49m\u001b[39m*\u001b[39;49mkwargs)\n\u001b[1;32m   1502\u001b[0m \u001b[39m# Do not call functions when jit is used\u001b[39;00m\n\u001b[1;32m   1503\u001b[0m full_backward_hooks, non_full_backward_hooks \u001b[39m=\u001b[39m [], []\n",
      "\u001b[1;32m/home/sgupta/WORK/Stoplevel_day_ahead_prediction/SNA_Project_dynamic_graph/04_train_dynamic_1_hr_GConvGRU.ipynb Cell 19\u001b[0m line \u001b[0;36m2\n\u001b[1;32m     <a href='vscode-notebook-cell://ssh-remote%2Bdigital-storm-3/home/sgupta/WORK/Stoplevel_day_ahead_prediction/SNA_Project_dynamic_graph/04_train_dynamic_1_hr_GConvGRU.ipynb#X24sdnNjb2RlLXJlbW90ZQ%3D%3D?line=19'>20</a>\u001b[0m \u001b[39mdef\u001b[39;00m \u001b[39mforward\u001b[39m(\u001b[39mself\u001b[39m, x, edge_index, edge_weight):\n\u001b[0;32m---> <a href='vscode-notebook-cell://ssh-remote%2Bdigital-storm-3/home/sgupta/WORK/Stoplevel_day_ahead_prediction/SNA_Project_dynamic_graph/04_train_dynamic_1_hr_GConvGRU.ipynb#X24sdnNjb2RlLXJlbW90ZQ%3D%3D?line=20'>21</a>\u001b[0m     h \u001b[39m=\u001b[39m \u001b[39mself\u001b[39;49m\u001b[39m.\u001b[39;49mrecurrent(x, edge_index, edge_weight)\n\u001b[1;32m     <a href='vscode-notebook-cell://ssh-remote%2Bdigital-storm-3/home/sgupta/WORK/Stoplevel_day_ahead_prediction/SNA_Project_dynamic_graph/04_train_dynamic_1_hr_GConvGRU.ipynb#X24sdnNjb2RlLXJlbW90ZQ%3D%3D?line=21'>22</a>\u001b[0m     h \u001b[39m=\u001b[39m F\u001b[39m.\u001b[39mrelu(h)\n\u001b[1;32m     <a href='vscode-notebook-cell://ssh-remote%2Bdigital-storm-3/home/sgupta/WORK/Stoplevel_day_ahead_prediction/SNA_Project_dynamic_graph/04_train_dynamic_1_hr_GConvGRU.ipynb#X24sdnNjb2RlLXJlbW90ZQ%3D%3D?line=23'>24</a>\u001b[0m     h \u001b[39m=\u001b[39m F\u001b[39m.\u001b[39mrelu(\u001b[39mself\u001b[39m\u001b[39m.\u001b[39mlinear1(h))\n",
      "File \u001b[0;32m~/anaconda3/envs/pytorchSAM/lib/python3.9/site-packages/torch/nn/modules/module.py:1501\u001b[0m, in \u001b[0;36mModule._call_impl\u001b[0;34m(self, *args, **kwargs)\u001b[0m\n\u001b[1;32m   1496\u001b[0m \u001b[39m# If we don't have any hooks, we want to skip the rest of the logic in\u001b[39;00m\n\u001b[1;32m   1497\u001b[0m \u001b[39m# this function, and just call forward.\u001b[39;00m\n\u001b[1;32m   1498\u001b[0m \u001b[39mif\u001b[39;00m \u001b[39mnot\u001b[39;00m (\u001b[39mself\u001b[39m\u001b[39m.\u001b[39m_backward_hooks \u001b[39mor\u001b[39;00m \u001b[39mself\u001b[39m\u001b[39m.\u001b[39m_backward_pre_hooks \u001b[39mor\u001b[39;00m \u001b[39mself\u001b[39m\u001b[39m.\u001b[39m_forward_hooks \u001b[39mor\u001b[39;00m \u001b[39mself\u001b[39m\u001b[39m.\u001b[39m_forward_pre_hooks\n\u001b[1;32m   1499\u001b[0m         \u001b[39mor\u001b[39;00m _global_backward_pre_hooks \u001b[39mor\u001b[39;00m _global_backward_hooks\n\u001b[1;32m   1500\u001b[0m         \u001b[39mor\u001b[39;00m _global_forward_hooks \u001b[39mor\u001b[39;00m _global_forward_pre_hooks):\n\u001b[0;32m-> 1501\u001b[0m     \u001b[39mreturn\u001b[39;00m forward_call(\u001b[39m*\u001b[39;49margs, \u001b[39m*\u001b[39;49m\u001b[39m*\u001b[39;49mkwargs)\n\u001b[1;32m   1502\u001b[0m \u001b[39m# Do not call functions when jit is used\u001b[39;00m\n\u001b[1;32m   1503\u001b[0m full_backward_hooks, non_full_backward_hooks \u001b[39m=\u001b[39m [], []\n",
      "File \u001b[0;32m~/anaconda3/envs/pytorchSAM/lib/python3.9/site-packages/torch_geometric_temporal/nn/recurrent/gconv_gru.py:167\u001b[0m, in \u001b[0;36mGConvGRU.forward\u001b[0;34m(self, X, edge_index, edge_weight, H, lambda_max)\u001b[0m\n\u001b[1;32m    165\u001b[0m H \u001b[39m=\u001b[39m \u001b[39mself\u001b[39m\u001b[39m.\u001b[39m_set_hidden_state(X, H)\n\u001b[1;32m    166\u001b[0m Z \u001b[39m=\u001b[39m \u001b[39mself\u001b[39m\u001b[39m.\u001b[39m_calculate_update_gate(X, edge_index, edge_weight, H, lambda_max)\n\u001b[0;32m--> 167\u001b[0m R \u001b[39m=\u001b[39m \u001b[39mself\u001b[39;49m\u001b[39m.\u001b[39;49m_calculate_reset_gate(X, edge_index, edge_weight, H, lambda_max)\n\u001b[1;32m    168\u001b[0m H_tilde \u001b[39m=\u001b[39m \u001b[39mself\u001b[39m\u001b[39m.\u001b[39m_calculate_candidate_state(X, edge_index, edge_weight, H, R, lambda_max)\n\u001b[1;32m    169\u001b[0m H \u001b[39m=\u001b[39m \u001b[39mself\u001b[39m\u001b[39m.\u001b[39m_calculate_hidden_state(Z, H, H_tilde)\n",
      "File \u001b[0;32m~/anaconda3/envs/pytorchSAM/lib/python3.9/site-packages/torch_geometric_temporal/nn/recurrent/gconv_gru.py:126\u001b[0m, in \u001b[0;36mGConvGRU._calculate_reset_gate\u001b[0;34m(self, X, edge_index, edge_weight, H, lambda_max)\u001b[0m\n\u001b[1;32m    125\u001b[0m \u001b[39mdef\u001b[39;00m \u001b[39m_calculate_reset_gate\u001b[39m(\u001b[39mself\u001b[39m, X, edge_index, edge_weight, H, lambda_max):\n\u001b[0;32m--> 126\u001b[0m     R \u001b[39m=\u001b[39m \u001b[39mself\u001b[39;49m\u001b[39m.\u001b[39;49mconv_x_r(X, edge_index, edge_weight, lambda_max\u001b[39m=\u001b[39;49mlambda_max)\n\u001b[1;32m    127\u001b[0m     R \u001b[39m=\u001b[39m R \u001b[39m+\u001b[39m \u001b[39mself\u001b[39m\u001b[39m.\u001b[39mconv_h_r(H, edge_index, edge_weight, lambda_max\u001b[39m=\u001b[39mlambda_max)\n\u001b[1;32m    128\u001b[0m     R \u001b[39m=\u001b[39m torch\u001b[39m.\u001b[39msigmoid(R)\n",
      "File \u001b[0;32m~/anaconda3/envs/pytorchSAM/lib/python3.9/site-packages/torch/nn/modules/module.py:1501\u001b[0m, in \u001b[0;36mModule._call_impl\u001b[0;34m(self, *args, **kwargs)\u001b[0m\n\u001b[1;32m   1496\u001b[0m \u001b[39m# If we don't have any hooks, we want to skip the rest of the logic in\u001b[39;00m\n\u001b[1;32m   1497\u001b[0m \u001b[39m# this function, and just call forward.\u001b[39;00m\n\u001b[1;32m   1498\u001b[0m \u001b[39mif\u001b[39;00m \u001b[39mnot\u001b[39;00m (\u001b[39mself\u001b[39m\u001b[39m.\u001b[39m_backward_hooks \u001b[39mor\u001b[39;00m \u001b[39mself\u001b[39m\u001b[39m.\u001b[39m_backward_pre_hooks \u001b[39mor\u001b[39;00m \u001b[39mself\u001b[39m\u001b[39m.\u001b[39m_forward_hooks \u001b[39mor\u001b[39;00m \u001b[39mself\u001b[39m\u001b[39m.\u001b[39m_forward_pre_hooks\n\u001b[1;32m   1499\u001b[0m         \u001b[39mor\u001b[39;00m _global_backward_pre_hooks \u001b[39mor\u001b[39;00m _global_backward_hooks\n\u001b[1;32m   1500\u001b[0m         \u001b[39mor\u001b[39;00m _global_forward_hooks \u001b[39mor\u001b[39;00m _global_forward_pre_hooks):\n\u001b[0;32m-> 1501\u001b[0m     \u001b[39mreturn\u001b[39;00m forward_call(\u001b[39m*\u001b[39;49margs, \u001b[39m*\u001b[39;49m\u001b[39m*\u001b[39;49mkwargs)\n\u001b[1;32m   1502\u001b[0m \u001b[39m# Do not call functions when jit is used\u001b[39;00m\n\u001b[1;32m   1503\u001b[0m full_backward_hooks, non_full_backward_hooks \u001b[39m=\u001b[39m [], []\n",
      "File \u001b[0;32m~/anaconda3/envs/pytorchSAM/lib/python3.9/site-packages/torch_geometric/nn/conv/cheb_conv.py:151\u001b[0m, in \u001b[0;36mChebConv.forward\u001b[0;34m(self, x, edge_index, edge_weight, batch, lambda_max)\u001b[0m\n\u001b[1;32m    142\u001b[0m \u001b[39mdef\u001b[39;00m \u001b[39mforward\u001b[39m(\n\u001b[1;32m    143\u001b[0m     \u001b[39mself\u001b[39m,\n\u001b[1;32m    144\u001b[0m     x: Tensor,\n\u001b[0;32m   (...)\u001b[0m\n\u001b[1;32m    148\u001b[0m     lambda_max: OptTensor \u001b[39m=\u001b[39m \u001b[39mNone\u001b[39;00m,\n\u001b[1;32m    149\u001b[0m ) \u001b[39m-\u001b[39m\u001b[39m>\u001b[39m Tensor:\n\u001b[0;32m--> 151\u001b[0m     edge_index, norm \u001b[39m=\u001b[39m \u001b[39mself\u001b[39;49m\u001b[39m.\u001b[39;49m__norm__(\n\u001b[1;32m    152\u001b[0m         edge_index,\n\u001b[1;32m    153\u001b[0m         x\u001b[39m.\u001b[39;49msize(\u001b[39mself\u001b[39;49m\u001b[39m.\u001b[39;49mnode_dim),\n\u001b[1;32m    154\u001b[0m         edge_weight,\n\u001b[1;32m    155\u001b[0m         \u001b[39mself\u001b[39;49m\u001b[39m.\u001b[39;49mnormalization,\n\u001b[1;32m    156\u001b[0m         lambda_max,\n\u001b[1;32m    157\u001b[0m         dtype\u001b[39m=\u001b[39;49mx\u001b[39m.\u001b[39;49mdtype,\n\u001b[1;32m    158\u001b[0m         batch\u001b[39m=\u001b[39;49mbatch,\n\u001b[1;32m    159\u001b[0m     )\n\u001b[1;32m    161\u001b[0m     Tx_0 \u001b[39m=\u001b[39m x\n\u001b[1;32m    162\u001b[0m     Tx_1 \u001b[39m=\u001b[39m x  \u001b[39m# Dummy.\u001b[39;00m\n",
      "File \u001b[0;32m~/anaconda3/envs/pytorchSAM/lib/python3.9/site-packages/torch_geometric/nn/conv/cheb_conv.py:119\u001b[0m, in \u001b[0;36mChebConv.__norm__\u001b[0;34m(self, edge_index, num_nodes, edge_weight, normalization, lambda_max, dtype, batch)\u001b[0m\n\u001b[1;32m    109\u001b[0m \u001b[39mdef\u001b[39;00m \u001b[39m__norm__\u001b[39m(\n\u001b[1;32m    110\u001b[0m     \u001b[39mself\u001b[39m,\n\u001b[1;32m    111\u001b[0m     edge_index: Tensor,\n\u001b[0;32m   (...)\u001b[0m\n\u001b[1;32m    117\u001b[0m     batch: OptTensor \u001b[39m=\u001b[39m \u001b[39mNone\u001b[39;00m,\n\u001b[1;32m    118\u001b[0m ):\n\u001b[0;32m--> 119\u001b[0m     edge_index, edge_weight \u001b[39m=\u001b[39m get_laplacian(edge_index, edge_weight,\n\u001b[1;32m    120\u001b[0m                                             normalization, dtype,\n\u001b[1;32m    121\u001b[0m                                             num_nodes)\n\u001b[1;32m    122\u001b[0m     \u001b[39massert\u001b[39;00m edge_weight \u001b[39mis\u001b[39;00m \u001b[39mnot\u001b[39;00m \u001b[39mNone\u001b[39;00m\n\u001b[1;32m    124\u001b[0m     \u001b[39mif\u001b[39;00m lambda_max \u001b[39mis\u001b[39;00m \u001b[39mNone\u001b[39;00m:\n",
      "File \u001b[0;32m~/anaconda3/envs/pytorchSAM/lib/python3.9/site-packages/torch_geometric/utils/get_laplacian.py:84\u001b[0m, in \u001b[0;36mget_laplacian\u001b[0;34m(edge_index, edge_weight, normalization, dtype, num_nodes)\u001b[0m\n\u001b[1;32m     81\u001b[0m edge_weight \u001b[39m=\u001b[39m deg_inv_sqrt[row] \u001b[39m*\u001b[39m edge_weight \u001b[39m*\u001b[39m deg_inv_sqrt[col]\n\u001b[1;32m     83\u001b[0m \u001b[39m# L = I - A_norm.\u001b[39;00m\n\u001b[0;32m---> 84\u001b[0m edge_index, tmp \u001b[39m=\u001b[39m add_self_loops(edge_index, \u001b[39m-\u001b[39;49medge_weight,\n\u001b[1;32m     85\u001b[0m                                  fill_value\u001b[39m=\u001b[39;49m\u001b[39m1.\u001b[39;49m, num_nodes\u001b[39m=\u001b[39;49mnum_nodes)\n\u001b[1;32m     86\u001b[0m \u001b[39massert\u001b[39;00m tmp \u001b[39mis\u001b[39;00m \u001b[39mnot\u001b[39;00m \u001b[39mNone\u001b[39;00m\n\u001b[1;32m     87\u001b[0m edge_weight \u001b[39m=\u001b[39m tmp\n",
      "File \u001b[0;32m~/anaconda3/envs/pytorchSAM/lib/python3.9/site-packages/torch_geometric/utils/loop.py:267\u001b[0m, in \u001b[0;36madd_self_loops\u001b[0;34m(edge_index, edge_attr, fill_value, num_nodes)\u001b[0m\n\u001b[1;32m    264\u001b[0m     \u001b[39melse\u001b[39;00m:\n\u001b[1;32m    265\u001b[0m         \u001b[39mraise\u001b[39;00m \u001b[39mAttributeError\u001b[39;00m(\u001b[39m\"\u001b[39m\u001b[39mNo valid \u001b[39m\u001b[39m'\u001b[39m\u001b[39mfill_value\u001b[39m\u001b[39m'\u001b[39m\u001b[39m provided\u001b[39m\u001b[39m\"\u001b[39m)\n\u001b[0;32m--> 267\u001b[0m     edge_attr \u001b[39m=\u001b[39m torch\u001b[39m.\u001b[39;49mcat([edge_attr, loop_attr], dim\u001b[39m=\u001b[39;49m\u001b[39m0\u001b[39;49m)\n\u001b[1;32m    269\u001b[0m edge_index \u001b[39m=\u001b[39m torch\u001b[39m.\u001b[39mcat([edge_index, loop_index], dim\u001b[39m=\u001b[39m\u001b[39m1\u001b[39m)\n\u001b[1;32m    270\u001b[0m \u001b[39mif\u001b[39;00m is_sparse:\n",
      "\u001b[0;31mKeyboardInterrupt\u001b[0m: "
     ]
    }
   ],
   "source": [
    "\n",
    "model_checkpoint_path = './model_checkpoint/GConvGRU/'\n",
    "pathlib.Path(model_checkpoint_path).mkdir(parents=True, exist_ok=True) \n",
    "\n",
    "e = None\n",
    "# e = torch.empty(no_of_nodes, 4)\n",
    "# torch.nn.init.xavier_uniform_(e)\n",
    "\n",
    "history = {\n",
    "    'epoch':[],\n",
    "    'train_acc':[],\n",
    "    'validation_acc':[],\n",
    "    'train_loss':[],\n",
    "    'validation_loss':[]\n",
    "}\n",
    "\n",
    "for epoch in tqdm(range(EPOCHS)):\n",
    "    train_acc, train_loss = train_one_epoch(train_dataset, e)\n",
    "    validation_acc, validation_loss = validate_one_epoch(validation_dataset, e)\n",
    "    # print(validation_loss)\n",
    "    PATH  = f'{model_checkpoint_path}/model_GConvGRU_{epoch}_500_epoch.pt'\n",
    "    torch.save({\n",
    "            'epoch': epoch,\n",
    "            'model_state_dict': model.state_dict(),\n",
    "            'optimizer_state_dict': optimizer.state_dict(),\n",
    "            'train_loss': train_loss,\n",
    "            'validation_loss': validation_loss,\n",
    "            }, PATH)\n",
    "    \n",
    "    print(f'Epoch: {epoch:03d}, Train Acc: {train_acc:.4f}, Train Loss: {train_loss:.4f}, Val Acc: {validation_acc:.4f}, Val Loss: {validation_loss:.4f}')\n",
    "\n",
    "    history['epoch'].append(epoch+1)\n",
    "    history['train_acc'].append(train_acc)\n",
    "    history['validation_acc'].append(validation_acc)\n",
    "    history['train_loss'].append(float(train_loss.data))\n",
    "    history['validation_loss'].append(float(validation_loss.data))\n",
    "    \n",
    "    if early_stopper.early_stop(validation_loss):     \n",
    "        print(f\"Stopping early! {validation_loss}, {epoch}\")      \n",
    "        break\n"
   ]
  },
  {
   "cell_type": "code",
   "execution_count": null,
   "metadata": {},
   "outputs": [],
   "source": [
    "# Experiment_results_saving path\n",
    "\n",
    "experiment_results_path = './exp_results/'\n",
    "pathlib.Path(experiment_results_path).mkdir(parents=True, exist_ok=True)"
   ]
  },
  {
   "cell_type": "code",
   "execution_count": null,
   "metadata": {},
   "outputs": [],
   "source": [
    "# best_epoch = epoch - patience\n",
    "def find_min_val(val_list):\n",
    "    res = 0\n",
    "    cur_min = val_list[0]\n",
    "    for i in range(1,len(val_list)):\n",
    "        if val_list[i] <= cur_min:\n",
    "            res = i\n",
    "            cur_min = val_list[i]\n",
    "    return res\n",
    "\n",
    "best_iteration = find_min_val(history['validation_loss'])\n",
    "best_epoch = history['epoch'][best_iteration]-1\n",
    "\n"
   ]
  },
  {
   "cell_type": "code",
   "execution_count": null,
   "metadata": {},
   "outputs": [
    {
     "data": {
      "text/plain": [
       "28"
      ]
     },
     "execution_count": 24,
     "metadata": {},
     "output_type": "execute_result"
    }
   ],
   "source": [
    "best_epoch"
   ]
  },
  {
   "cell_type": "code",
   "execution_count": null,
   "metadata": {},
   "outputs": [],
   "source": [
    "# tmodel = torch.load(f'./model_checkpoint/GConvGRU/model_GConvGRU_{best_epoch}_500_epoch.pt')\n",
    "\n",
    "model2 = model\n",
    "# model2.load_state_dict(tmodel['model_state_dict'])"
   ]
  },
  {
   "cell_type": "code",
   "execution_count": null,
   "metadata": {},
   "outputs": [],
   "source": [
    "lr = lr\n",
    "EPOCHS = best_epoch\n",
    "patience = patience\n",
    "loss = 'focal_loss'\n",
    "node_features_used = no_of_node_features\n",
    "edge_features_used = 0"
   ]
  },
  {
   "cell_type": "code",
   "execution_count": null,
   "metadata": {},
   "outputs": [],
   "source": [
    "curr_experiment_path = f'{experiment_results_path}/GConvGRU_1_hr_time_window/lr_{lr}_epochs_{EPOCHS}_patience_{patience}_loss_{loss}_no_node_f_{node_features_used}_no_edge_f_{edge_features_used}_500_epoch'\n",
    "pathlib.Path(curr_experiment_path).mkdir(parents=True, exist_ok=True) "
   ]
  },
  {
   "cell_type": "code",
   "execution_count": null,
   "metadata": {},
   "outputs": [],
   "source": [
    "\n",
    "def test(loader):\n",
    "    model.eval()\n",
    "\n",
    "    correct=0\n",
    "    count=0\n",
    "    y_true = []\n",
    "    y_pred = []\n",
    "\n",
    "    h = None\n",
    "    for time, snapshot in enumerate(loader):\n",
    "        snapshot.to(device)\n",
    "        # x = snapshot.x.view(1, no_of_nodes,no_of_node_features)\n",
    "        y_hat = model2(snapshot.x, snapshot.edge_index, snapshot.edge_attr)\n",
    "        \n",
    "        # Assuming snapshot.y is of shape [20] and has values in the range [0, 4]\n",
    "        # snapshot_y_one_hot = F.one_hot(snapshot.y, num_classes=num_classes).unsqueeze(0)\n",
    "\n",
    "        pred = y_hat.argmax(dim=1)  # Use the class with highest probability.\n",
    "        y_true.append(snapshot.y)\n",
    "        y_pred.append(pred)\n",
    "\n",
    "        yp = np.array(pred.cpu()).flatten()\n",
    "        yt = np.array(snapshot.y.cpu()).flatten()\n",
    "        correct += int((yp == yt).sum()) \n",
    "        count += len(yt)\n",
    "\n",
    "    return (correct/count), y_true, y_pred\n",
    "\n",
    "\n",
    "test_acc,  y_true, y_pred = test(test_dataset)"
   ]
  },
  {
   "cell_type": "code",
   "execution_count": null,
   "metadata": {},
   "outputs": [],
   "source": [
    "yt = np.concatenate([tensor.flatten().cpu() for tensor in y_true])\n",
    "yp = np.concatenate([tensor.flatten().cpu() for tensor in y_pred])\n",
    "\n",
    "temp = pd.DataFrame(columns=['ytrue','ypred'])\n",
    "temp.ytrue = yt\n",
    "temp.ypred = yp"
   ]
  },
  {
   "cell_type": "code",
   "execution_count": null,
   "metadata": {},
   "outputs": [],
   "source": [
    "\n",
    "\n",
    "\n",
    "def get_CM(y_true,y_pred,title,comment,path):\n",
    "    test_acc = (y_pred == y_true).sum()/len(y_true)\n",
    "\n",
    "    print(f\"Accuracy {comment}:\",test_acc)\n",
    "\n",
    "    cm = confusion_matrix(y_true, y_pred)\n",
    "    disp = ConfusionMatrixDisplay(confusion_matrix=cm)\n",
    "    # Plot the confusion matrix\n",
    "    fig, ax = plt.subplots(figsize=(8, 6))\n",
    "    _ = disp.plot(ax=ax)\n",
    "    # Add a title to the plot\n",
    "    ax.set_title(title + \" - Real Count\")\n",
    "    # plt.savefig(f'{path}/CM_real_55_{comment}.jpg')\n",
    "    plt.show()\n",
    "\n",
    "    # Getting the percentage CM\n",
    "    cm = ((cm * 100) / (cm.sum(axis=1)[:, np.newaxis]))\n",
    "    disp = ConfusionMatrixDisplay(confusion_matrix=cm)\n",
    "    # Plot the confusion matrix\n",
    "    fig, ax = plt.subplots(figsize=(8, 6))\n",
    "    _ = disp.plot(ax=ax)\n",
    "    # Add a title to the plot\n",
    "    ax.set_title(title + \" - Percentages\")\n",
    "    # plt.savefig(f'{path}/CM_percentage_55{comment}.jpg')\n",
    "    plt.show()\n",
    "\n",
    "    return test_acc"
   ]
  },
  {
   "cell_type": "code",
   "execution_count": null,
   "metadata": {},
   "outputs": [
    {
     "name": "stdout",
     "output_type": "stream",
     "text": [
      "Accuracy with 4th bin: 0.5988330993076066\n"
     ]
    },
    {
     "data": {
      "image/png": "[encoded data removed]",
      "text/plain": [
       "<Figure size 800x600 with 2 Axes>"
      ]
     },
     "metadata": {},
     "output_type": "display_data"
    },
    {
     "data": {
      "image/png": "[encoded data removed]",
      "text/plain": [
       "<Figure size 800x600 with 2 Axes>"
      ]
     },
     "metadata": {},
     "output_type": "display_data"
    }
   ],
   "source": [
    "test_acc_w_4th = get_CM(temp.ytrue,temp.ypred,'ROUTE 55 ','with 4th bin','curr_experiment_path')\n",
    "history['test_acc_with_4th_bin'] = test_acc_w_4th\n"
   ]
  },
  {
   "cell_type": "code",
   "execution_count": null,
   "metadata": {},
   "outputs": [
    {
     "name": "stderr",
     "output_type": "stream",
     "text": [
      "/home/sgupta/anaconda3/envs/pytorchSAM/lib/python3.9/site-packages/sklearn/metrics/_classification.py:1469: UndefinedMetricWarning: Precision and F-score are ill-defined and being set to 0.0 in labels with no predicted samples. Use `zero_division` parameter to control this behavior.\n",
      "  _warn_prf(average, modifier, msg_start, len(result))\n"
     ]
    }
   ],
   "source": [
    "from sklearn.metrics import precision_recall_fscore_support\n",
    "precision, recall, f1_score, support = precision_recall_fscore_support(temp.ytrue,temp.ypred, average='weighted')"
   ]
  },
  {
   "cell_type": "code",
   "execution_count": null,
   "metadata": {},
   "outputs": [
    {
     "data": {
      "text/plain": [
       "(0.3586010808263539, 0.5988330993076066, 0.44857850513809144, None)"
      ]
     },
     "execution_count": 43,
     "metadata": {},
     "output_type": "execute_result"
    }
   ],
   "source": [
    "precision, recall, f1_score, support"
   ]
  },
  {
   "cell_type": "code",
   "execution_count": null,
   "metadata": {},
   "outputs": [],
   "source": [
    "history_df = pd.DataFrame(history)\n",
    "history_df.to_csv(f'{curr_experiment_path}/history_w_results.csv')"
   ]
  },
  {
   "cell_type": "code",
   "execution_count": null,
   "metadata": {},
   "outputs": [
    {
     "name": "stdout",
     "output_type": "stream",
     "text": [
      "Custom Accuracy Metric: 0.8812509078584225\n"
     ]
    }
   ],
   "source": [
    "def accuracy_metric(y_true,y_pred):\n",
    "        a = []\n",
    "        \n",
    "        for i in range(len(y_true)):\n",
    "            yt = y_true[i]\n",
    "            yp = y_pred[i]\n",
    "\n",
    "            temp = 1 - (np.abs(yt-yp)/num_classes)\n",
    "            a.append(temp)\n",
    "        # print(a)\n",
    "        accuracy = sum(a)/len(y_true)\n",
    "\n",
    "        return accuracy\n",
    "\n",
    "custom_accuracy = accuracy_metric(temp.ytrue,temp.ypred)\n",
    "print('Custom Accuracy Metric:',custom_accuracy)"
   ]
  },
  {
   "cell_type": "code",
   "execution_count": 3,
   "metadata": {},
   "outputs": [
    {
     "ename": "NameError",
     "evalue": "name 'precision' is not defined",
     "output_type": "error",
     "traceback": [
      "\u001b[0;31m---------------------------------------------------------------------------\u001b[0m",
      "\u001b[0;31mNameError\u001b[0m                                 Traceback (most recent call last)",
      "\u001b[1;32m/home/sgupta/WORK/Stoplevel_day_ahead_prediction/SNA_Project_dynamic_graph/04_train_dynamic_1_hr_GConvGRU.ipynb Cell 34\u001b[0m line \u001b[0;36m4\n\u001b[1;32m      <a href='vscode-notebook-cell://ssh-remote%2Bdigital-storm-3/home/sgupta/WORK/Stoplevel_day_ahead_prediction/SNA_Project_dynamic_graph/04_train_dynamic_1_hr_GConvGRU.ipynb#X45sdnNjb2RlLXJlbW90ZQ%3D%3D?line=0'>1</a>\u001b[0m \u001b[39m# Open a file in write mode ('w' or 'a' for append)\u001b[39;00m\n\u001b[1;32m      <a href='vscode-notebook-cell://ssh-remote%2Bdigital-storm-3/home/sgupta/WORK/Stoplevel_day_ahead_prediction/SNA_Project_dynamic_graph/04_train_dynamic_1_hr_GConvGRU.ipynb#X45sdnNjb2RlLXJlbW90ZQ%3D%3D?line=1'>2</a>\u001b[0m \u001b[39mwith\u001b[39;00m \u001b[39mopen\u001b[39m(\u001b[39m'\u001b[39m\u001b[39m./results/dn_de_2_hr/dynamic_node_dynamic_edge_1_hr_output.txt\u001b[39m\u001b[39m'\u001b[39m, \u001b[39m'\u001b[39m\u001b[39mw\u001b[39m\u001b[39m'\u001b[39m) \u001b[39mas\u001b[39;00m file:\n\u001b[1;32m      <a href='vscode-notebook-cell://ssh-remote%2Bdigital-storm-3/home/sgupta/WORK/Stoplevel_day_ahead_prediction/SNA_Project_dynamic_graph/04_train_dynamic_1_hr_GConvGRU.ipynb#X45sdnNjb2RlLXJlbW90ZQ%3D%3D?line=2'>3</a>\u001b[0m     \u001b[39m# Write data to the file\u001b[39;00m\n\u001b[0;32m----> <a href='vscode-notebook-cell://ssh-remote%2Bdigital-storm-3/home/sgupta/WORK/Stoplevel_day_ahead_prediction/SNA_Project_dynamic_graph/04_train_dynamic_1_hr_GConvGRU.ipynb#X45sdnNjb2RlLXJlbW90ZQ%3D%3D?line=3'>4</a>\u001b[0m     file\u001b[39m.\u001b[39mwrite(\u001b[39mf\u001b[39m\u001b[39m\"\u001b[39m\u001b[39mThe precision, recall and f1-score are: \u001b[39m\u001b[39m{\u001b[39;00mprecision\u001b[39m}\u001b[39;00m\u001b[39m, \u001b[39m\u001b[39m{\u001b[39;00mrecall\u001b[39m}\u001b[39;00m\u001b[39m and \u001b[39m\u001b[39m{\u001b[39;00mf1_score\u001b[39m}\u001b[39;00m\u001b[39m\"\u001b[39m)\n\u001b[1;32m      <a href='vscode-notebook-cell://ssh-remote%2Bdigital-storm-3/home/sgupta/WORK/Stoplevel_day_ahead_prediction/SNA_Project_dynamic_graph/04_train_dynamic_1_hr_GConvGRU.ipynb#X45sdnNjb2RlLXJlbW90ZQ%3D%3D?line=4'>5</a>\u001b[0m     file\u001b[39m.\u001b[39mwrite(\u001b[39mf\u001b[39m\u001b[39m'\u001b[39m\u001b[39mCustom Accuracy Metric: \u001b[39m\u001b[39m{\u001b[39;00mcustom_accuracy\u001b[39m}\u001b[39;00m\u001b[39m'\u001b[39m)\n",
      "\u001b[0;31mNameError\u001b[0m: name 'precision' is not defined"
     ]
    }
   ],
   "source": [
    "# Open a file in write mode ('w' or 'a' for append)\n",
    "with open('./results/dn_de_1_hr/dynamic_node_dynamic_edge_1_hr_output.txt', 'w') as file:\n",
    "    # Write data to the file\n",
    "    file.write(f\"The precision, recall and f1-score are: {precision}, {recall} and {f1_score}\")\n",
    "    file.write(f'Custom Accuracy Metric: {custom_accuracy}')"
   ]
  },
  {
   "cell_type": "code",
   "execution_count": null,
   "metadata": {},
   "outputs": [],
   "source": [
    "temp.to_csv('./results/dn_de_1_hr/dynamic_node_dynamic_edge_1_hr_preds.csv')"
   ]
  }
 ],
 "metadata": {
  "kernelspec": {
   "display_name": "pytorchenv",
   "language": "python",
   "name": "python3"
  },
  "language_info": {
   "codemirror_mode": {
    "name": "ipython",
    "version": 3
   },
   "file_extension": ".py",
   "mimetype": "text/x-python",
   "name": "python",
   "nbconvert_exporter": "python",
   "pygments_lexer": "ipython3",
   "version": "3.9.18"
  },
  "orig_nbformat": 4
 },
 "nbformat": 4,
 "nbformat_minor": 2
}
